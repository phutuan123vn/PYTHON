{
 "cells": [
  {
   "cell_type": "code",
   "execution_count": 23,
   "metadata": {},
   "outputs": [],
   "source": [
    "import numpy as np\n",
    "import matplotlib.pyplot as plt\n",
    "from util import get_mnist_data\n",
    "from logistic_np import add_one, LogisticClassifier\n",
    "import time\n",
    "#import pdb"
   ]
  },
  {
   "cell_type": "code",
   "execution_count": 24,
   "metadata": {},
   "outputs": [],
   "source": [
    "class SoftmaxClassifier(LogisticClassifier):\n",
    "    def __init__(self, w_shape):\n",
    "        \"\"\"__init__\n",
    "        \n",
    "        :param w_shape: create w with shape w_shape using normal distribution\n",
    "        \"\"\"\n",
    "        super(SoftmaxClassifier, self).__init__(w_shape)\n",
    "\n",
    "\n",
    "    def softmax(self, x):\n",
    "        \"\"\"softmax\n",
    "        Compute softmax on the second axis of x\n",
    "    \n",
    "        :param x: input\n",
    "        \"\"\"\n",
    "        # [TODO 2.3]\n",
    "        # Compute softmax\n",
    "\n",
    "        return \n",
    "\n",
    "\n",
    "    def feed_forward(self, x):\n",
    "        \"\"\"feed_forward\n",
    "        This function compute the output of your softmax regression model\n",
    "        \n",
    "        :param x: input\n",
    "        \"\"\"\n",
    "        # [TODO 2.3]\n",
    "        # Compute a feed forward pass\n",
    "        result=x@self.w\n",
    "        return result\n",
    "\n",
    "\n",
    "    def compute_loss(self, y, y_hat):\n",
    "        \"\"\"compute_loss\n",
    "        Compute the loss using y (label) and y_hat (predicted class)\n",
    "\n",
    "        :param y:  the label, the actual class of the samples\n",
    "        :param y_hat: the class probabilities of all samples in our data\n",
    "        \"\"\"\n",
    "        # [TODO 2.4]\n",
    "        # Compute categorical loss\n",
    "\n",
    "        return \n",
    "        \n",
    "\n",
    "\n",
    "    def get_grad(self, x, y, y_hat):\n",
    "        \"\"\"get_grad\n",
    "        Compute and return the gradient of w\n",
    "\n",
    "        :param loss: computed loss between y_hat and y in the train dataset\n",
    "        :param y_hat: predicted y\n",
    "        \"\"\" \n",
    "        # [TODO 2.5]\n",
    "        # Compute gradient of the loss function with respect to w\n",
    "\n",
    "        return "
   ]
  },
  {
   "cell_type": "markdown",
   "metadata": {},
   "source": [
    "PLOT"
   ]
  },
  {
   "cell_type": "code",
   "execution_count": 25,
   "metadata": {},
   "outputs": [],
   "source": [
    "def plot_loss(train_loss, val_loss):\n",
    "    plt.figure(1)\n",
    "    plt.clf()\n",
    "    plt.plot(train_loss, color='b')\n",
    "    plt.plot(val_loss, color='g')\n"
   ]
  },
  {
   "cell_type": "markdown",
   "metadata": {},
   "source": [
    "draw weight\n"
   ]
  },
  {
   "cell_type": "code",
   "execution_count": 26,
   "metadata": {},
   "outputs": [],
   "source": [
    "def draw_weight(w):\n",
    "    label_names = ['T-shirt', 'Trouser', 'Pullover', 'Dress', 'Coat', 'Sandal', 'Shirt', 'Sneaker', 'Bag', 'Ankle boot']\n",
    "    plt.figure(2, figsize=(8, 6))\n",
    "    plt.clf()\n",
    "    w = w[0:(28*28),:].reshape(28, 28, 10)\n",
    "    for i in range(10):\n",
    "        ax = plt.subplot(3, 4, i+1)\n",
    "        plt.imshow(w[:,:,i], interpolation='nearest')\n",
    "        plt.axis('off')\n",
    "        ax.set_title(label_names[i])"
   ]
  },
  {
   "cell_type": "markdown",
   "metadata": {},
   "source": [
    "NORMALIZE\n"
   ]
  },
  {
   "cell_type": "code",
   "execution_count": 27,
   "metadata": {},
   "outputs": [],
   "source": [
    "def normalize(train_x, val_x, test_x):\n",
    "    \"\"\"normalize\n",
    "    This function computes train mean and standard deviation on all pixels then applying data scaling on train_x, val_x and test_x using these computed values\n",
    "    Note that in this classification problem, the data is already flatten into a shape of (num_samples, image_width*image_height)\n",
    "\n",
    "    :param train_x: train images, shape=(num_train, image_height*image_width)\n",
    "    :param val_x: validation images, shape=(num_val, image_height*image_width)\n",
    "    :param test_x: test images, shape=(num_test, image_height*image_width)\n",
    "    \"\"\"\n",
    "    # [TODO 2.1]\n",
    "    # train_mean and train_std should have the shape of (1, 1)\n",
    "    mean_train=np.mean(train_x)\n",
    "    mean_val=np.mean(val_x)\n",
    "    mean_test=np.mean(test_x)\n",
    "    train_x=(train_x-mean_train)/np.std(train_x)\n",
    "    val_x=(val_x-mean_val)/np.std(val_x)\n",
    "    test_x=(test_x-mean_test)/np.std(test_x)\n",
    "    return train_x,val_x,test_x"
   ]
  },
  {
   "cell_type": "markdown",
   "metadata": {},
   "source": [
    "create one hot"
   ]
  },
  {
   "cell_type": "code",
   "execution_count": 28,
   "metadata": {},
   "outputs": [],
   "source": [
    "def create_one_hot(labels, num_k=10):\n",
    "    \"\"\"create_one_hot\n",
    "    This function creates a one-hot (one-of-k) matrix based on the given labels\n",
    "\n",
    "    :param labels: list of labels, each label is one of 0, 1, 2,... , num_k - 1\n",
    "    :param num_k: number of classes we want to classify\n",
    "    \"\"\"\n",
    "    # [TODO 2.2]\n",
    "    # Create the one-hot label matrix here based on labels\n",
    "    one_hot=np.copy(labels)\n",
    "    one_hot[one_hot!=0]=1\n",
    "    return one_hot"
   ]
  },
  {
   "cell_type": "markdown",
   "metadata": {},
   "source": [
    "TEST\n"
   ]
  },
  {
   "cell_type": "code",
   "execution_count": 29,
   "metadata": {},
   "outputs": [],
   "source": [
    "def test(y_hat, test_y):\n",
    "    \"\"\"test\n",
    "    Compute the confusion matrix based on labels and predicted values \n",
    "\n",
    "    :param classifier: the trained classifier\n",
    "    :param y_hat: predicted probabilites, output of classifier.feed_forward\n",
    "    :param test_y: test labels\n",
    "    \"\"\"\n",
    "    \n",
    "    confusion_mat = np.zeros((10,10))\n",
    "    \n",
    "    # [TODO 2.7]\n",
    "    # Compute the confusion matrix here\n",
    "\n",
    "    #confusion_mat = confusion_mat/np.sum(confusion_mat,axis=1)\n",
    "    np.set_printoptions(precision=2)\n",
    "    print('Confusion matrix:')\n",
    "    print(confusion_mat)\n",
    "    print('Diagonal values:')\n",
    "    print(confusion_mat.flatten()[0::11])"
   ]
  },
  {
   "cell_type": "markdown",
   "metadata": {},
   "source": [
    "MAIN"
   ]
  },
  {
   "cell_type": "code",
   "execution_count": 30,
   "metadata": {},
   "outputs": [
    {
     "name": "stdout",
     "output_type": "stream",
     "text": [
      "Reading fashion MNIST data...\n",
      "<class 'numpy.ndarray'>\n",
      "Done reading\n"
     ]
    }
   ],
   "source": [
    "if __name__ == \"__main__\":\n",
    "    np.random.seed(2020)\n",
    "\n",
    "    # Load data from file\n",
    "    # Make sure that fashion-mnist/*.gz files is in data/\n",
    "    train_x, train_y, val_x, val_y, test_x, test_y = get_mnist_data()\n",
    "    num_train = train_x.shape[0]\n",
    "    num_val = val_x.shape[0]\n",
    "    num_test = test_x.shape[0]  \n",
    "\n",
    "    #generate_unit_testcase(train_x.copy(), train_y.copy()) \n",
    "\n",
    "    # Convert label lists to one-hot (one-of-k) encoding\n",
    "    train_y = create_one_hot(train_y)\n",
    "    val_y = create_one_hot(val_y)\n",
    "    test_y = create_one_hot(test_y)\n",
    "\n",
    "    # Normalize our data\n",
    "    train_x, val_x, test_x = normalize(train_x, val_x, test_x)\n",
    "    \n",
    "    # Pad 1 as the last feature of train_x and test_x\n",
    "    train_x = add_one(train_x) \n",
    "    val_x = add_one(val_x)\n",
    "    test_x = add_one(test_x)\n",
    "    \n",
    "    # Create classifier\n",
    "    num_feature = train_x.shape[1]\n",
    "    dec_classifier = SoftmaxClassifier((num_feature, 10))\n",
    "    momentum = np.zeros_like(dec_classifier.w)\n",
    "\n",
    "    # Define hyper-parameters and train-related parameters\n",
    "    num_epoch = 3347\n",
    "    learning_rate = 0.01\n",
    "    momentum_rate = 0.9\n",
    "    epochs_to_draw = 10\n",
    "    all_train_loss = []\n",
    "    all_val_loss = []\n",
    "    plt.ion()\n",
    "\n",
    "    for e in range(num_epoch):    \n",
    "        train_y_hat = dec_classifier.feed_forward(train_x)\n",
    "        val_y_hat = dec_classifier.feed_forward(val_x)\n",
    "\n",
    "        train_loss = dec_classifier.compute_loss(train_y, train_y_hat)\n",
    "        val_loss = dec_classifier.compute_loss(val_y, val_y_hat)\n",
    "\n",
    "        grad = dec_classifier.get_grad(train_x, train_y, train_y_hat)\n",
    "       \n",
    "        # dec_classifier.numerical_check(train_x, train_y, grad)\n",
    "        # Updating weight: choose either normal SGD or SGD with momentum\n",
    "        dec_classifier.update_weight(grad, learning_rate)\n",
    "        #dec_classifier.update_weight_momentum(grad, learning_rate, momentum, momentum_rate)\n",
    "\n",
    "        all_train_loss.append(train_loss) \n",
    "        all_val_loss.append(val_loss)\n",
    "        # [TODO 2.6]\n",
    "        # Propose your own stopping condition here\n",
    "\n",
    "    y_hat = dec_classifier.feed_forward(test_x)\n",
    "    test(y_hat, test_y)"
   ]
  },
  {
   "cell_type": "code",
   "execution_count": 31,
   "metadata": {},
   "outputs": [
    {
     "name": "stdout",
     "output_type": "stream",
     "text": [
      "[[0. 0. 0. ... 0. 0. 0.]\n",
      " [0. 0. 0. ... 0. 0. 0.]\n",
      " [0. 0. 0. ... 0. 0. 0.]\n",
      " ...\n",
      " [0. 0. 0. ... 0. 0. 0.]\n",
      " [0. 0. 0. ... 0. 0. 0.]\n",
      " [0. 0. 0. ... 0. 0. 0.]]\n"
     ]
    }
   ],
   "source": [
    "print(train_x)"
   ]
  }
 ],
 "metadata": {
  "kernelspec": {
   "display_name": "Python 3.10.4 ('pythonProject')",
   "language": "python",
   "name": "python3"
  },
  "language_info": {
   "codemirror_mode": {
    "name": "ipython",
    "version": 3
   },
   "file_extension": ".py",
   "mimetype": "text/x-python",
   "name": "python",
   "nbconvert_exporter": "python",
   "pygments_lexer": "ipython3",
   "version": "3.10.4"
  },
  "orig_nbformat": 4,
  "vscode": {
   "interpreter": {
    "hash": "ab47d8f26d0de71b951a80b6ec953abb660ed114394f9d340a18606f921977ea"
   }
  }
 },
 "nbformat": 4,
 "nbformat_minor": 2
}

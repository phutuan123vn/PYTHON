{
 "cells": [
  {
   "cell_type": "code",
   "execution_count": 30,
   "metadata": {},
   "outputs": [],
   "source": [
    "import numpy as np\n",
    "import matplotlib.pyplot as plt\n",
    "from util import get_vehicle_data\n",
    "import time\n",
    "import pdb\n"
   ]
  },
  {
   "cell_type": "code",
   "execution_count": 31,
   "metadata": {},
   "outputs": [],
   "source": [
    "class LogisticClassifier(object):\n",
    "    def __init__(self, w_shape):\n",
    "        \"\"\"__init__\n",
    "\n",
    "        :param w_shape: create w with shape w_shape using normal distribution\n",
    "        \"\"\"\n",
    "\n",
    "        mean = 0\n",
    "        std = 1\n",
    "        self.w = np.random.normal(0, np.sqrt(2./np.sum(w_shape)), w_shape)\n",
    "\n",
    "    def feed_forward(self, x):\n",
    "        \"\"\"feed_forward\n",
    "        This function compute the output of your logistic classification model\n",
    "\n",
    "        :param x: input\n",
    "\n",
    "        :return result: feed forward result (after sigmoid) \n",
    "        \"\"\"\n",
    "        # [TODO 1.5]\n",
    "        # Compute feedforward result\n",
    "\n",
    "        result = x@self.w\n",
    "        return result\n",
    "\n",
    "    def compute_loss(self, y, y_hat):\n",
    "        \"\"\"compute_loss\n",
    "        Compute the loss using y (label) and y_hat (predicted class)\n",
    "\n",
    "        :param y:  the label, the actual class of the samples\n",
    "        :param y_hat: the propabilitis that the given samples belong to class 1\n",
    "\n",
    "        :return loss: a single value\n",
    "        \"\"\"\n",
    "        # [TODO 1.6]\n",
    "        # Compute loss value (a single number)\n",
    "\n",
    "        loss = -1*np.sum((y*np.log(y_hat)+(1-y)*np.log(1-y_hat)))/y.shape[0]\n",
    "        # print(loss.shape)\n",
    "        return loss\n",
    "\n",
    "    def get_grad(self, x, y, y_hat):\n",
    "        \"\"\"get_grad\n",
    "        Compute and return the gradient of w\n",
    "\n",
    "        :param loss: computed loss between y_hat and y in the train dataset\n",
    "        :param y_hat: predicted y\n",
    "\n",
    "        :return w_grad: has the same shape as self.w\n",
    "        \"\"\"\n",
    "        # [TODO 1.7]\n",
    "        # Compute the gradient matrix of w, it has the same size of w\n",
    "        w_grad = np.matmul(x.T,(y_hat-y))/y.shape[0]\n",
    "        return w_grad\n",
    "\n",
    "    def update_weight(self, grad, learning_rate):\n",
    "        \"\"\"update_weight\n",
    "        Update w using the computed gradient\n",
    "\n",
    "        :param grad: gradient computed from the loss\n",
    "        :param learning_rate: float, learning rate\n",
    "        \"\"\"\n",
    "        # [TODO 1.8]\n",
    "        # Update w using SGD\n",
    "\n",
    "        self.w -= learning_rate*grad\n",
    "\n",
    "    def update_weight_momentum(self, grad, learning_rate, momentum, momentum_rate):\n",
    "        \"\"\"update_weight with momentum\n",
    "        Update w using the algorithm with momnetum\n",
    "\n",
    "        :param grad: gradient computed from the loss\n",
    "        :param learning_rate: float, learning rate\n",
    "        :param momentum: the array storing momentum for training w, should have the same shape as w\n",
    "        :param momentum_rate: float, how much momentum to reuse after each loop (denoted as gamma in the document)\n",
    "        \"\"\"\n",
    "        # [TODO 1.9]\n",
    "        # Update w using SGD with momentum\n",
    "        self.w = momentum_rate*momentum+learning_rate*grad"
   ]
  },
  {
   "cell_type": "code",
   "execution_count": 32,
   "metadata": {},
   "outputs": [],
   "source": [
    "def plot_loss(all_loss):\n",
    "    plt.figure(1)\n",
    "    plt.clf()\n",
    "    plt.plot(all_loss)"
   ]
  },
  {
   "cell_type": "markdown",
   "metadata": {},
   "source": [
    "NORMALIZE PER PIXEL\n",
    "k image 64x64"
   ]
  },
  {
   "cell_type": "code",
   "execution_count": 33,
   "metadata": {},
   "outputs": [],
   "source": [
    "def normalize_per_pixel(train_x, test_x):\n",
    "    \"\"\"normalize_per_pixel\n",
    "    This function computes train mean and standard deviation on each pixel then applying data scaling on train_x and test_x using these computed values\n",
    "\n",
    "    :param train_x: train images, shape=(num_train, image_height, image_width)\n",
    "    :param test_x: test images, shape=(num_test, image_height, image_width)\n",
    "    \"\"\"\n",
    "    # [TODO 1.1]\n",
    "    # train_mean and train_std should have the shape of (1, image_height, image_width)\n",
    "    # train_x = ...\n",
    "    # test_x = ...\n",
    "    mean_trainx=np.mean(train_x,axis=0)\n",
    "    mean_testx=np.mean(test_x,axis=0)\n",
    "    std_trainx=np.std(train_x,axis=0)\n",
    "    std_testx=np.std(test_x,axis=0)\n",
    "    std_trainx=std_trainx.reshape((1,std_trainx.shape[0],std_trainx.shape[1]))\n",
    "    std_testnx=std_testx.reshape((1,std_testx.shape[0],std_testx.shape[1]))\n",
    "    train_x = (train_x-mean_trainx)/std_trainx\n",
    "    test_x = (test_x-mean_testx)/std_testx\n",
    "\n",
    "    return train_x, test_x"
   ]
  },
  {
   "cell_type": "markdown",
   "metadata": {},
   "source": [
    "NORMALIZE ALL PIXEL"
   ]
  },
  {
   "cell_type": "code",
   "execution_count": 34,
   "metadata": {},
   "outputs": [],
   "source": [
    "def normalize_all_pixel(train_x, test_x):\n",
    "    \"\"\"normalize_all_pixel\n",
    "    This function computes train mean and standard deviation on all pixels then applying data scaling on train_x and test_x using these computed values\n",
    "\n",
    "    :param train_x: train images, shape=(num_train, image_height, image_width)\n",
    "    :param test_x: test images, shape=(num_test, image_height, image_width)\n",
    "    \"\"\"\n",
    "    # [TODO 1.2]\n",
    "    # train_mean and train_std should have the shape of (1, image_height, image_width)\n",
    "    meanx=np.mean(train_x)\n",
    "    train_x = (train_x-meanx)/np.std(train_x)\n",
    "    test_x = (test_x-meanx)/np.std(train_x)\n",
    "\n",
    "    return train_x, test_x"
   ]
  },
  {
   "cell_type": "markdown",
   "metadata": {},
   "source": [
    "RESHAPE 2D"
   ]
  },
  {
   "cell_type": "code",
   "execution_count": 35,
   "metadata": {},
   "outputs": [],
   "source": [
    "def reshape2D(tensor):\n",
    "    \"\"\"reshape_2D\n",
    "    Reshape our 3D tensors to 2D. A 3D tensor of shape (num_samples, image_height, image_width) must be reshaped into (num_samples, image_height*image_width)\n",
    "    \"\"\"\n",
    "    # [TODO 1.3]\n",
    "    tensor=tensor.reshape(tensor.shape[0],tensor.shape[1]*tensor.shape[2])\n",
    "\n",
    "    return tensor"
   ]
  },
  {
   "cell_type": "markdown",
   "metadata": {},
   "source": [
    "ADD ONE"
   ]
  },
  {
   "cell_type": "code",
   "execution_count": 36,
   "metadata": {},
   "outputs": [],
   "source": [
    "def add_one(x):\n",
    "    \"\"\"add_one\n",
    "\n",
    "    This function add ones as an additional feature for x\n",
    "    :param x: input data\n",
    "    \"\"\"\n",
    "    # [TODO 1.4]\n",
    "    x=np.hstack((np.ones((x.shape[0],1)),x))\n",
    "\n",
    "    return x"
   ]
  },
  {
   "cell_type": "markdown",
   "metadata": {},
   "source": [
    "TEST\n"
   ]
  },
  {
   "cell_type": "code",
   "execution_count": 37,
   "metadata": {},
   "outputs": [],
   "source": [
    "def test(y_hat, test_y):\n",
    "    \"\"\"test\n",
    "    Compute precision, recall and F1-score based on predicted test values\n",
    "\n",
    "    :param y_hat: predicted values, output of classifier.feed_forward\n",
    "    :param test_y: test labels\n",
    "    \"\"\"\n",
    "\n",
    "    # [TODO 1.10]\n",
    "    # Compute test scores using test_y and y_hat\n",
    "    #precision = TP/(TP+FP)\n",
    "    TP=np.sum(np.logical_and(y_hat==1.0,test_y==1.0))\n",
    "    FP=np.sum(np.logical_and(y_hat==1.0,test_y==0.0))\n",
    "    precision = TP/(TP+FP)\n",
    "    #recall = TP/P\n",
    "    recall = TP/y_hat.shape[0]\n",
    "\n",
    "    f1 = 2*(precision*recall)/(precision+recall)\n",
    "    print(\"Precision: %.3f\" % precision)\n",
    "    print(\"Recall: %.3f\" % recall)\n",
    "    print(\"F1-score: %.3f\" % f1)\n",
    "\n",
    "    return precision, recall, f1"
   ]
  },
  {
   "cell_type": "markdown",
   "metadata": {},
   "source": [
    "generate unit testcase\n"
   ]
  },
  {
   "cell_type": "code",
   "execution_count": 38,
   "metadata": {},
   "outputs": [],
   "source": [
    "def generate_unit_testcase(train_x, train_y):\n",
    "    train_x = train_x[0:5, :, :]\n",
    "    train_y = train_y[0:5, :]\n",
    "\n",
    "    testcase = {}\n",
    "    testcase['output'] = []\n",
    "\n",
    "    # train_x_norm1, _ = normalize_per_pixel(train_x, train_x)\n",
    "    train_x_norm2, _ = normalize_all_pixel(train_x, train_x)\n",
    "    train_x = train_x_norm2\n",
    "\n",
    "    testcase['train_x_norm1'] = train_x_norm1\n",
    "    testcase['train_x_norm2'] = train_x_norm2\n",
    "\n",
    "    train_x = reshape2D(train_x)\n",
    "    testcase['train_x2D'] = train_x\n",
    "\n",
    "    train_x = add_one(train_x)\n",
    "    testcase['train_x1'] = train_x\n",
    "\n",
    "    learning_rate = 0.001\n",
    "    momentum_rate = 0.9\n",
    "\n",
    "    for i in range(10):\n",
    "        test_dict = {}\n",
    "        classifier = LogisticClassifier((train_x.shape[1], 1))\n",
    "        test_dict['w'] = classifier.w\n",
    "\n",
    "        y_hat = classifier.feed_forward(train_x)\n",
    "        loss = classifier.compute_loss(train_y, y_hat)\n",
    "        grad = classifier.get_grad(train_x, train_y, y_hat)\n",
    "        classifier.update_weight(grad, 0.001)\n",
    "        test_dict['w_1'] = classifier.w\n",
    "\n",
    "        momentum = np.ones_like(grad)\n",
    "        classifier.update_weight_momentum(\n",
    "            grad, learning_rate, momentum, momentum_rate)\n",
    "        test_dict['w_2'] = classifier.w\n",
    "\n",
    "        test_dict['y_hat'] = y_hat\n",
    "        test_dict['loss'] = loss\n",
    "        test_dict['grad'] = grad\n",
    "\n",
    "        testcase['output'].append(test_dict)\n",
    "\n",
    "    np.save('./data/unittest', testcase)"
   ]
  },
  {
   "cell_type": "markdown",
   "metadata": {},
   "source": [
    "MAIN\n"
   ]
  },
  {
   "cell_type": "code",
   "execution_count": 39,
   "metadata": {},
   "outputs": [
    {
     "name": "stdout",
     "output_type": "stream",
     "text": [
      "Reading vehicle data...\n",
      "EOF Reached\n",
      "Done reading\n"
     ]
    }
   ],
   "source": [
    "if __name__ == \"__main__\":\n",
    "    np.random.seed(2018)\n",
    "\n",
    "    # Load data from file\n",
    "    # Make sure that vehicles.dat is in data/\n",
    "    train_x, train_y, test_x, test_y = get_vehicle_data()\n",
    "    num_train = train_x.shape[0]\n",
    "    num_test = test_x.shape[0]\n",
    "\n",
    "    #generate_unit_testcase(train_x.copy(), train_y.copy())\n",
    "\n",
    "    # Normalize our data: choose one of the two methods before training\n",
    "    train_x, test_x = normalize_all_pixel(train_x, test_x)\n",
    "    # train_x, test_x = normalize_per_pixel(train_x, test_x)\n",
    "\n",
    "    # Reshape our data\n",
    "    # train_x: shape=(2400, 64, 64) -> shape=(2400, 64*64)\n",
    "    # test_x: shape=(600, 64, 64) -> shape=(600, 64*64)\n",
    "    "
   ]
  },
  {
   "cell_type": "code",
   "execution_count": 40,
   "metadata": {},
   "outputs": [],
   "source": [
    "train_x = reshape2D(train_x)\n",
    "test_x = reshape2D(test_x)\n",
    "# Pad 1 as the last feature of train_x and test_x\n"
   ]
  },
  {
   "cell_type": "code",
   "execution_count": 41,
   "metadata": {},
   "outputs": [],
   "source": [
    "# Pad 1 as the last feature of train_x and test_x\n",
    "train_x = add_one(train_x)\n",
    "test_x = add_one(test_x)\n"
   ]
  },
  {
   "cell_type": "code",
   "execution_count": 42,
   "metadata": {},
   "outputs": [],
   "source": [
    "num_feature = train_x.shape[1]\n",
    "bin_classifier = LogisticClassifier((num_feature, 1))\n",
    "momentum = np.zeros_like(bin_classifier.w)"
   ]
  },
  {
   "cell_type": "code",
   "execution_count": 44,
   "metadata": {},
   "outputs": [
    {
     "data": {
      "image/png": "[encoded data removed]",
      "text/plain": [
       "<Figure size 640x480 with 1 Axes>"
      ]
     },
     "metadata": {},
     "output_type": "display_data"
    },
    {
     "name": "stdout",
     "output_type": "stream",
     "text": [
      "Epoch 100: loss is nan\n"
     ]
    },
    {
     "data": {
      "image/png": "[encoded data removed]",
      "text/plain": [
       "<Figure size 640x480 with 1 Axes>"
      ]
     },
     "metadata": {},
     "output_type": "display_data"
    },
    {
     "name": "stdout",
     "output_type": "stream",
     "text": [
      "Epoch 200: loss is nan\n"
     ]
    },
    {
     "data": {
      "image/png": "[encoded data removed]",
      "text/plain": [
       "<Figure size 640x480 with 1 Axes>"
      ]
     },
     "metadata": {},
     "output_type": "display_data"
    },
    {
     "name": "stdout",
     "output_type": "stream",
     "text": [
      "Epoch 300: loss is nan\n"
     ]
    },
    {
     "data": {
      "image/png": "[encoded data removed]",
      "text/plain": [
       "<Figure size 640x480 with 1 Axes>"
      ]
     },
     "metadata": {},
     "output_type": "display_data"
    },
    {
     "name": "stdout",
     "output_type": "stream",
     "text": [
      "Epoch 400: loss is nan\n"
     ]
    },
    {
     "data": {
      "image/png": "[encoded data removed]",
      "text/plain": [
       "<Figure size 640x480 with 1 Axes>"
      ]
     },
     "metadata": {},
     "output_type": "display_data"
    },
    {
     "name": "stdout",
     "output_type": "stream",
     "text": [
      "Epoch 500: loss is nan\n"
     ]
    },
    {
     "data": {
      "image/png": "[encoded data removed]",
      "text/plain": [
       "<Figure size 640x480 with 1 Axes>"
      ]
     },
     "metadata": {},
     "output_type": "display_data"
    },
    {
     "name": "stdout",
     "output_type": "stream",
     "text": [
      "Epoch 600: loss is nan\n"
     ]
    },
    {
     "data": {
      "image/png": "[encoded data removed]",
      "text/plain": [
       "<Figure size 640x480 with 1 Axes>"
      ]
     },
     "metadata": {},
     "output_type": "display_data"
    },
    {
     "name": "stdout",
     "output_type": "stream",
     "text": [
      "Epoch 700: loss is nan\n"
     ]
    },
    {
     "data": {
      "image/png": "[encoded data removed]",
      "text/plain": [
       "<Figure size 640x480 with 1 Axes>"
      ]
     },
     "metadata": {},
     "output_type": "display_data"
    },
    {
     "name": "stdout",
     "output_type": "stream",
     "text": [
      "Epoch 800: loss is nan\n"
     ]
    },
    {
     "data": {
      "image/png": "[encoded data removed]",
      "text/plain": [
       "<Figure size 640x480 with 1 Axes>"
      ]
     },
     "metadata": {},
     "output_type": "display_data"
    },
    {
     "name": "stdout",
     "output_type": "stream",
     "text": [
      "Epoch 900: loss is nan\n"
     ]
    },
    {
     "data": {
      "image/png": "[encoded data removed]",
      "text/plain": [
       "<Figure size 640x480 with 1 Axes>"
      ]
     },
     "metadata": {},
     "output_type": "display_data"
    },
    {
     "name": "stdout",
     "output_type": "stream",
     "text": [
      "Epoch 1000: loss is nan\n",
      "Precision: nan\n",
      "Recall: 0.000\n",
      "F1-score: nan\n"
     ]
    },
    {
     "name": "stderr",
     "output_type": "stream",
     "text": [
      "C:\\Users\\PhuTuan\\AppData\\Local\\Temp\\ipykernel_14276\\2450375347.py:14: RuntimeWarning: invalid value encountered in long_scalars\n",
      "  precision = TP/(TP+FP)\n"
     ]
    },
    {
     "data": {
      "text/plain": [
       "(nan, 0.0, nan)"
      ]
     },
     "execution_count": 44,
     "metadata": {},
     "output_type": "execute_result"
    }
   ],
   "source": [
    "# Define hyper-parameters and train-related parameters\n",
    "num_epoch = 1000\n",
    "learning_rate = 0.01\n",
    "momentum_rate = 0.9\n",
    "epochs_to_draw = 100\n",
    "all_loss = []\n",
    "plt.ion()\n",
    "tic = time.process_time()\n",
    "for e in range(num_epoch):\n",
    "    tic = time.process_time()\n",
    "    y_hat = bin_classifier.feed_forward(train_x)\n",
    "    loss = bin_classifier.compute_loss(train_y, y_hat)\n",
    "    grad = bin_classifier.get_grad(train_x, train_y, y_hat)\n",
    "\n",
    "    # Updating weight: choose either normal SGD or SGD with momentum\n",
    "    #bin_classifier.update_weight(grad, learning_rate)\n",
    "    bin_classifier.update_weight_momentum(\n",
    "        grad, learning_rate, momentum, momentum_rate)\n",
    "\n",
    "    all_loss.append(loss)\n",
    "\n",
    "    if (e % epochs_to_draw == epochs_to_draw-1):\n",
    "        plot_loss(all_loss)\n",
    "        plt.show()\n",
    "        plt.pause(0.1)\n",
    "        print(\"Epoch %d: loss is %.5f\" % (e+1, loss))\n",
    "    toc = time.process_time()\n",
    "    \n",
    "\n",
    "y_hat = bin_classifier.feed_forward(test_x)\n",
    "test(y_hat, test_y)"
   ]
  }
 ],
 "metadata": {
  "kernelspec": {
   "display_name": "Python 3.10.4 ('pythonProject')",
   "language": "python",
   "name": "python3"
  },
  "language_info": {
   "codemirror_mode": {
    "name": "ipython",
    "version": 3
   },
   "file_extension": ".py",
   "mimetype": "text/x-python",
   "name": "python",
   "nbconvert_exporter": "python",
   "pygments_lexer": "ipython3",
   "version": "3.10.4"
  },
  "orig_nbformat": 4,
  "vscode": {
   "interpreter": {
    "hash": "77bd7aacb429543d1defe97202d84abe615362f6ac5646d480f574bc453493ce"
   }
  }
 },
 "nbformat": 4,
 "nbformat_minor": 2
}

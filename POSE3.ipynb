{
 "cells": [
  {
   "cell_type": "code",
   "execution_count": 24,
   "metadata": {},
   "outputs": [],
   "source": [
    "import numpy as np\n",
    "import cv2 \n",
    "import mediapipe as mp\n",
    "import tensorflow as tf\n",
    "import keras.models\n",
    "gpu=tf.config.experimental.list_physical_devices('GPU')\n",
    "tf.config.experimental.set_memory_growth(gpu[0],True)\n"
   ]
  },
  {
   "cell_type": "code",
   "execution_count": 25,
   "metadata": {},
   "outputs": [],
   "source": [
    "mp_draw=mp.solutions.drawing_utils\n",
    "mp_pose=mp.solutions.pose\n",
    "# model = keras.models.load_model('weight_pose.h5')"
   ]
  },
  {
   "cell_type": "code",
   "execution_count": 26,
   "metadata": {},
   "outputs": [],
   "source": [
    "def detection(img,model):\n",
    "    # img=cv2.flip(img,1)\n",
    "    img=cv2.cvtColor(img,cv2.COLOR_BGR2RGB)\n",
    "    img.flags.writeable=False\n",
    "    results=model.process(img)\n",
    "    img.flags.writeable=True\n",
    "    img=cv2.cvtColor(img,cv2.COLOR_RGB2BGR)\n",
    "    return img,results\n"
   ]
  },
  {
   "cell_type": "code",
   "execution_count": 27,
   "metadata": {},
   "outputs": [],
   "source": [
    "def draw_edit(landmarks,frame):\n",
    "    h,w,_=frame.shape\n",
    "    nose=np.array([[landmarks[mp_pose.PoseLandmark.NOSE].x*w,landmarks[mp_pose.PoseLandmark.NOSE].y*h]])\n",
    "    lft_shoulder=np.array([[landmarks[mp_pose.PoseLandmark.LEFT_SHOULDER].x*w,landmarks[mp_pose.PoseLandmark.LEFT_SHOULDER].y*h]])\n",
    "    rght_shoulder=np.array([[landmarks[mp_pose.PoseLandmark.RIGHT_SHOULDER].x*w,landmarks[mp_pose.PoseLandmark.RIGHT_SHOULDER].y*h]])\n",
    "    neck=((lft_shoulder+rght_shoulder)/2+nose)/2\n",
    "    chest_mid=(lft_shoulder+rght_shoulder)/2\n",
    "    x1,y1=np.squeeze(neck)\n",
    "    x2,y2=np.squeeze(chest_mid)\n",
    "    cv2.circle(frame, (int(x1), int(y1)), 6, (0,255,0), -1)\n",
    "    cv2.line(frame, (int(x1), int(y1)), (int(x2), int(y2)), (255,255,255), 4)\n",
    "    "
   ]
  },
  {
   "cell_type": "code",
   "execution_count": 28,
   "metadata": {},
   "outputs": [],
   "source": [
    "def lay_mau(landmark):\n",
    "    a=[]\n",
    "    lst_x=[]\n",
    "    lst_y=[]\n",
    "    for idx,lmk in enumerate(landmark):\n",
    "        if idx in [x for x in range(1,11)]:\n",
    "            continue\n",
    "        elif idx in [x for x in range(17,23)]:\n",
    "            continue\n",
    "        # cv2.putText(frame,'Cor:{}'.format(y),(50,50),cv2.FONT_HERSHEY_COMPLEX,1,(255,0,0),1,cv2.LINE_AA)\n",
    "        if idx in [0,12,11,23,24,27,28]:\n",
    "            lst_x.append(lmk.x)\n",
    "            lst_y.append(lmk.y)\n",
    "        a.append(lmk.x)\n",
    "        a.append(lmk.y)\n",
    "        a.append(lmk.z)\n",
    "    return a,lst_x,lst_y"
   ]
  },
  {
   "cell_type": "code",
   "execution_count": 29,
   "metadata": {},
   "outputs": [],
   "source": [
    "def xulylandmark(lst_x,lst_y,frame):\n",
    "    waistx=(lst_x[3]+lst_x[4])/2*frame.shape[1]\n",
    "    waisty=(lst_y[3]+lst_y[4])/2*frame.shape[0]\n",
    "    xcenter=(lst_x[0]*frame.shape[1]+waistx)/2\n",
    "    ycenter=(lst_y[0]*frame.shape[0]+waisty)/2\n",
    "    footx=(lst_x[-2]+lst_x[-1])/2*frame.shape[1]\n",
    "    widh=abs(xcenter-footx)\n",
    "    footy=(lst_y[-2]+lst_y[-1])/2*frame.shape[0]\n",
    "    heit=abs(ycenter-footy)\n",
    "    return widh,heit\n",
    "    "
   ]
  },
  {
   "cell_type": "code",
   "execution_count": 31,
   "metadata": {},
   "outputs": [],
   "source": [
    "lst_sample=[]\n",
    "frame_num=30\n",
    "label=0\n",
    "with mp_pose.Pose(min_detection_confidence=0.5,min_tracking_confidence=0.5,model_complexity=1) as pose:\n",
    "    cap=cv2.VideoCapture('C:/Users/PhuTuan/Downloads/TEST.mp4')\n",
    "    # cap = cv2.VideoCapture(0)\n",
    "    while cap.isOpened():\n",
    "        ret,frame=cap.read()\n",
    "        if ret:\n",
    "            # frame=cv2.flip(frame,1)\n",
    "            img,results=detection(frame,pose)\n",
    "            if label==1:\n",
    "                mp_draw.draw_landmarks(img,results.pose_landmarks,mp_pose.POSE_CONNECTIONS,\n",
    "                mp_draw.DrawingSpec(color=(0,100,255),thickness=2,circle_radius=2),\n",
    "                mp_draw.DrawingSpec(color=(0,0,255),thickness=2,circle_radius=2))\n",
    "                cv2.putText(img,'Fall',(50,50),\n",
    "                cv2.FONT_HERSHEY_COMPLEX,2,(205,50,255),2,cv2.LINE_AA)\n",
    "            else:\n",
    "                mp_draw.draw_landmarks(img,results.pose_landmarks,mp_pose.POSE_CONNECTIONS,\n",
    "                mp_draw.DrawingSpec(color=(0,100,255),thickness=2,circle_radius=2),\n",
    "                mp_draw.DrawingSpec(color=(255,255,255),thickness=2,circle_radius=2))\n",
    "                cv2.putText(img,'Not Fall',(50,50),\n",
    "                cv2.FONT_HERSHEY_COMPLEX,2,(205,50,255),2,cv2.LINE_AA)\n",
    "            try:\n",
    "                landmark=results.pose_landmarks.landmark\n",
    "                lst_sample,lst_x,lst_y=lay_mau(landmark)\n",
    "                # print(lst_x,lst_y)\n",
    "                width,height=xulylandmark(lst_x,lst_y,img)\n",
    "                if width>height:\n",
    "                    label=1\n",
    "                else:\n",
    "                    label=0\n",
    "                # if len(lst_sample)==30:\n",
    "                #     tensor=np.expand_dims(lst_sample,axis=0)\n",
    "                #     lst_sample=[]\n",
    "                #     # action=model.predict(tensor)\n",
    "                #     if action[0,0]>=0.7:\n",
    "                #         label=1\n",
    "                #     else:\n",
    "                #         label=0\n",
    "            except:\n",
    "                pass\n",
    "            # cv2.putText(img,str(label),(50,50),cv2.FONT_HERSHEY_COMPLEX,2,(205,50,255),2,cv2.LINE_AA)\n",
    "            if cv2.waitKey(20)&0xFF==ord('q'):\n",
    "                break\n",
    "            # img=cv2.flip(img,1)\n",
    "            cv2.imshow('Pose',img)\n",
    "        else:\n",
    "            break\n",
    "    cap.release()\n",
    "cv2.destroyAllWindows()"
   ]
  }
 ],
 "metadata": {
  "kernelspec": {
   "display_name": "Python 3.10.8 ('pythonProject')",
   "language": "python",
   "name": "python3"
  },
  "language_info": {
   "codemirror_mode": {
    "name": "ipython",
    "version": 3
   },
   "file_extension": ".py",
   "mimetype": "text/x-python",
   "name": "python",
   "nbconvert_exporter": "python",
   "pygments_lexer": "ipython3",
   "version": "3.10.8 | packaged by conda-forge | (main, Nov 24 2022, 14:07:00) [MSC v.1916 64 bit (AMD64)]"
  },
  "orig_nbformat": 4,
  "vscode": {
   "interpreter": {
    "hash": "77bd7aacb429543d1defe97202d84abe615362f6ac5646d480f574bc453493ce"
   }
  }
 },
 "nbformat": 4,
 "nbformat_minor": 2
}

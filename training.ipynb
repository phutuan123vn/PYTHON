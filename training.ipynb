{
 "cells": [
  {
   "cell_type": "code",
   "execution_count": 2,
   "metadata": {},
   "outputs": [],
   "source": [
    "import numpy as np\n",
    "import pandas as pd\n",
    "import tensorflow as tf\n",
    "import glob\n",
    "from sklearn.model_selection import train_test_split\n",
    "from tensorflow.keras.models import Sequential\n",
    "from tensorflow.keras.layers import LSTM,Dense,Dropout\n"
   ]
  },
  {
   "cell_type": "code",
   "execution_count": 3,
   "metadata": {},
   "outputs": [],
   "source": [
    "gpu=tf.config.experimental.list_physical_devices('GPU')\n",
    "tf.config.experimental.set_memory_growth(gpu[0],True)"
   ]
  },
  {
   "cell_type": "code",
   "execution_count": 4,
   "metadata": {},
   "outputs": [],
   "source": [
    "path1=glob.glob('SAMPLE_F/*')\n",
    "path2=glob.glob('SAMPLE_w/*')"
   ]
  },
  {
   "cell_type": "code",
   "execution_count": null,
   "metadata": {},
   "outputs": [],
   "source": []
  },
  {
   "cell_type": "code",
   "execution_count": 13,
   "metadata": {},
   "outputs": [],
   "source": [
    "x=[]\n",
    "y=[]"
   ]
  },
  {
   "cell_type": "code",
   "execution_count": 14,
   "metadata": {},
   "outputs": [],
   "source": [
    "for i in path1:\n",
    "    df=pd.read_csv(i)\n",
    "    dataset=df.iloc[:,1:].values\n",
    "    x.append(dataset)\n",
    "    y.append(1)"
   ]
  },
  {
   "cell_type": "code",
   "execution_count": 10,
   "metadata": {},
   "outputs": [],
   "source": [
    "for i in path2:\n",
    "    df=pd.read_csv(i)\n",
    "    dataset=df.iloc[:,1:].values\n",
    "    for i in range(0,len(dataset),15):\n",
    "        if i+15>len(dataset):break\n",
    "        x.append(dataset[i:15+i])\n",
    "        y.append(0)"
   ]
  },
  {
   "cell_type": "code",
   "execution_count": 15,
   "metadata": {},
   "outputs": [],
   "source": [
    "x=np.array(x)"
   ]
  },
  {
   "cell_type": "code",
   "execution_count": 16,
   "metadata": {},
   "outputs": [
    {
     "data": {
      "text/plain": [
       "(0,)"
      ]
     },
     "execution_count": 16,
     "metadata": {},
     "output_type": "execute_result"
    }
   ],
   "source": [
    "x.shape"
   ]
  },
  {
   "cell_type": "code",
   "execution_count": 8,
   "metadata": {},
   "outputs": [],
   "source": [
    "y=np.array(y)"
   ]
  },
  {
   "cell_type": "code",
   "execution_count": 9,
   "metadata": {},
   "outputs": [],
   "source": [
    "x_train,x_test,y_train,y_test=train_test_split(x,y,test_size=0.2)"
   ]
  },
  {
   "cell_type": "code",
   "execution_count": 10,
   "metadata": {},
   "outputs": [
    {
     "name": "stdout",
     "output_type": "stream",
     "text": [
      "Epoch 1/100\n",
      "7/7 [==============================] - 17s 501ms/step - loss: 0.6522 - accuracy: 0.6481 - val_loss: 0.6215 - val_accuracy: 0.6296\n",
      "Epoch 2/100\n",
      "7/7 [==============================] - 0s 49ms/step - loss: 0.4304 - accuracy: 0.7870 - val_loss: 0.5276 - val_accuracy: 0.7654\n",
      "Epoch 3/100\n",
      "7/7 [==============================] - 0s 45ms/step - loss: 0.2767 - accuracy: 0.9043 - val_loss: 0.2850 - val_accuracy: 0.9012\n",
      "Epoch 4/100\n",
      "7/7 [==============================] - 0s 44ms/step - loss: 0.2513 - accuracy: 0.9074 - val_loss: 0.4493 - val_accuracy: 0.8642\n",
      "Epoch 5/100\n",
      "7/7 [==============================] - 0s 49ms/step - loss: 0.2889 - accuracy: 0.8951 - val_loss: 0.2903 - val_accuracy: 0.8889\n",
      "Epoch 6/100\n",
      "7/7 [==============================] - 0s 44ms/step - loss: 0.2098 - accuracy: 0.9198 - val_loss: 0.2867 - val_accuracy: 0.9012\n",
      "Epoch 7/100\n",
      "7/7 [==============================] - 0s 45ms/step - loss: 0.1962 - accuracy: 0.9290 - val_loss: 0.3157 - val_accuracy: 0.8889\n",
      "Epoch 8/100\n",
      "7/7 [==============================] - 0s 47ms/step - loss: 0.2276 - accuracy: 0.9136 - val_loss: 0.2432 - val_accuracy: 0.9259\n",
      "Epoch 9/100\n",
      "7/7 [==============================] - 0s 47ms/step - loss: 0.2028 - accuracy: 0.9321 - val_loss: 0.2923 - val_accuracy: 0.8889\n",
      "Epoch 10/100\n",
      "7/7 [==============================] - 0s 48ms/step - loss: 0.1782 - accuracy: 0.9290 - val_loss: 0.3025 - val_accuracy: 0.9136\n",
      "Epoch 11/100\n",
      "7/7 [==============================] - 0s 47ms/step - loss: 0.1684 - accuracy: 0.9321 - val_loss: 0.2819 - val_accuracy: 0.9136\n",
      "Epoch 12/100\n",
      "7/7 [==============================] - 0s 52ms/step - loss: 0.1661 - accuracy: 0.9383 - val_loss: 0.2793 - val_accuracy: 0.9136\n",
      "Epoch 13/100\n",
      "7/7 [==============================] - 0s 49ms/step - loss: 0.1327 - accuracy: 0.9475 - val_loss: 0.2757 - val_accuracy: 0.9012\n",
      "Epoch 14/100\n",
      "7/7 [==============================] - 0s 52ms/step - loss: 0.1401 - accuracy: 0.9475 - val_loss: 0.2625 - val_accuracy: 0.9012\n",
      "Epoch 15/100\n",
      "7/7 [==============================] - 0s 48ms/step - loss: 0.1322 - accuracy: 0.9506 - val_loss: 0.2652 - val_accuracy: 0.9012\n",
      "Epoch 16/100\n",
      "7/7 [==============================] - 0s 49ms/step - loss: 0.1206 - accuracy: 0.9599 - val_loss: 0.2899 - val_accuracy: 0.9012\n",
      "Epoch 17/100\n",
      "7/7 [==============================] - 0s 47ms/step - loss: 0.1031 - accuracy: 0.9660 - val_loss: 0.2881 - val_accuracy: 0.9136\n",
      "Epoch 18/100\n",
      "7/7 [==============================] - 0s 47ms/step - loss: 0.1257 - accuracy: 0.9537 - val_loss: 0.3596 - val_accuracy: 0.9012\n",
      "Epoch 19/100\n",
      "7/7 [==============================] - 0s 45ms/step - loss: 0.1594 - accuracy: 0.9414 - val_loss: 0.3695 - val_accuracy: 0.8765\n",
      "Epoch 20/100\n",
      "7/7 [==============================] - 0s 49ms/step - loss: 0.1522 - accuracy: 0.9506 - val_loss: 0.2719 - val_accuracy: 0.9012\n",
      "Epoch 21/100\n",
      "7/7 [==============================] - 0s 46ms/step - loss: 0.1175 - accuracy: 0.9722 - val_loss: 0.3618 - val_accuracy: 0.9136\n",
      "Epoch 22/100\n",
      "7/7 [==============================] - 0s 45ms/step - loss: 0.1203 - accuracy: 0.9599 - val_loss: 0.4140 - val_accuracy: 0.8642\n",
      "Epoch 23/100\n",
      "7/7 [==============================] - 0s 49ms/step - loss: 0.1862 - accuracy: 0.9259 - val_loss: 0.3070 - val_accuracy: 0.8889\n",
      "Epoch 24/100\n",
      "7/7 [==============================] - 0s 49ms/step - loss: 0.1232 - accuracy: 0.9630 - val_loss: 0.2972 - val_accuracy: 0.9136\n",
      "Epoch 25/100\n",
      "7/7 [==============================] - 0s 45ms/step - loss: 0.1084 - accuracy: 0.9691 - val_loss: 0.2968 - val_accuracy: 0.9012\n",
      "Epoch 26/100\n",
      "7/7 [==============================] - 0s 44ms/step - loss: 0.1059 - accuracy: 0.9630 - val_loss: 0.2699 - val_accuracy: 0.9136\n",
      "Epoch 27/100\n",
      "7/7 [==============================] - 0s 47ms/step - loss: 0.0690 - accuracy: 0.9722 - val_loss: 0.3073 - val_accuracy: 0.9012\n",
      "Epoch 28/100\n",
      "7/7 [==============================] - 0s 47ms/step - loss: 0.0867 - accuracy: 0.9691 - val_loss: 0.3797 - val_accuracy: 0.9136\n",
      "Epoch 29/100\n",
      "7/7 [==============================] - 0s 46ms/step - loss: 0.1188 - accuracy: 0.9568 - val_loss: 0.3602 - val_accuracy: 0.8889\n",
      "Epoch 30/100\n",
      "7/7 [==============================] - 0s 46ms/step - loss: 0.1187 - accuracy: 0.9599 - val_loss: 0.3963 - val_accuracy: 0.8395\n",
      "Epoch 31/100\n",
      "7/7 [==============================] - 0s 45ms/step - loss: 0.1420 - accuracy: 0.9414 - val_loss: 0.3916 - val_accuracy: 0.8765\n",
      "Epoch 32/100\n",
      "7/7 [==============================] - 0s 43ms/step - loss: 0.1459 - accuracy: 0.9383 - val_loss: 0.2775 - val_accuracy: 0.9136\n",
      "Epoch 33/100\n",
      "7/7 [==============================] - 0s 47ms/step - loss: 0.1081 - accuracy: 0.9506 - val_loss: 0.2767 - val_accuracy: 0.9012\n",
      "Epoch 34/100\n",
      "7/7 [==============================] - 0s 45ms/step - loss: 0.1073 - accuracy: 0.9506 - val_loss: 0.3452 - val_accuracy: 0.9012\n",
      "Epoch 35/100\n",
      "7/7 [==============================] - 0s 58ms/step - loss: 0.1200 - accuracy: 0.9537 - val_loss: 0.3191 - val_accuracy: 0.9259\n",
      "Epoch 36/100\n",
      "7/7 [==============================] - 0s 53ms/step - loss: 0.0803 - accuracy: 0.9784 - val_loss: 0.4247 - val_accuracy: 0.8765\n",
      "Epoch 37/100\n",
      "7/7 [==============================] - 0s 46ms/step - loss: 0.0945 - accuracy: 0.9691 - val_loss: 0.2573 - val_accuracy: 0.9136\n",
      "Epoch 38/100\n",
      "7/7 [==============================] - 0s 55ms/step - loss: 0.0698 - accuracy: 0.9722 - val_loss: 0.3269 - val_accuracy: 0.9012\n",
      "Epoch 39/100\n",
      "7/7 [==============================] - 0s 50ms/step - loss: 0.0585 - accuracy: 0.9753 - val_loss: 0.3804 - val_accuracy: 0.9012\n",
      "Epoch 40/100\n",
      "7/7 [==============================] - 0s 45ms/step - loss: 0.0526 - accuracy: 0.9753 - val_loss: 0.3492 - val_accuracy: 0.8889\n",
      "Epoch 41/100\n",
      "7/7 [==============================] - 0s 44ms/step - loss: 0.0941 - accuracy: 0.9753 - val_loss: 0.3876 - val_accuracy: 0.9259\n",
      "Epoch 42/100\n",
      "7/7 [==============================] - 0s 50ms/step - loss: 0.2049 - accuracy: 0.9228 - val_loss: 0.2612 - val_accuracy: 0.8889\n",
      "Epoch 43/100\n",
      "7/7 [==============================] - 0s 47ms/step - loss: 0.1640 - accuracy: 0.9228 - val_loss: 0.3493 - val_accuracy: 0.8519\n",
      "Epoch 44/100\n",
      "7/7 [==============================] - 0s 50ms/step - loss: 0.1023 - accuracy: 0.9568 - val_loss: 0.2381 - val_accuracy: 0.9136\n",
      "Epoch 45/100\n",
      "7/7 [==============================] - 0s 51ms/step - loss: 0.0717 - accuracy: 0.9784 - val_loss: 0.2389 - val_accuracy: 0.9383\n",
      "Epoch 46/100\n",
      "7/7 [==============================] - 0s 45ms/step - loss: 0.0644 - accuracy: 0.9753 - val_loss: 0.2904 - val_accuracy: 0.9136\n",
      "Epoch 47/100\n",
      "7/7 [==============================] - 0s 50ms/step - loss: 0.0729 - accuracy: 0.9722 - val_loss: 0.3578 - val_accuracy: 0.9012\n",
      "Epoch 48/100\n",
      "7/7 [==============================] - 0s 47ms/step - loss: 0.0928 - accuracy: 0.9660 - val_loss: 0.2467 - val_accuracy: 0.9136\n",
      "Epoch 49/100\n",
      "7/7 [==============================] - 0s 47ms/step - loss: 0.0672 - accuracy: 0.9784 - val_loss: 0.2945 - val_accuracy: 0.9012\n",
      "Epoch 50/100\n",
      "7/7 [==============================] - 0s 46ms/step - loss: 0.0565 - accuracy: 0.9753 - val_loss: 0.3450 - val_accuracy: 0.9136\n",
      "Epoch 51/100\n",
      "7/7 [==============================] - 0s 46ms/step - loss: 0.0524 - accuracy: 0.9784 - val_loss: 0.2809 - val_accuracy: 0.9259\n",
      "Epoch 52/100\n",
      "7/7 [==============================] - 0s 46ms/step - loss: 0.0461 - accuracy: 0.9815 - val_loss: 0.3140 - val_accuracy: 0.9136\n",
      "Epoch 53/100\n",
      "7/7 [==============================] - 0s 45ms/step - loss: 0.0345 - accuracy: 0.9846 - val_loss: 0.3245 - val_accuracy: 0.9012\n",
      "Epoch 54/100\n",
      "7/7 [==============================] - 0s 45ms/step - loss: 0.0317 - accuracy: 0.9877 - val_loss: 0.2835 - val_accuracy: 0.9136\n",
      "Epoch 55/100\n",
      "7/7 [==============================] - 0s 44ms/step - loss: 0.0248 - accuracy: 0.9938 - val_loss: 0.3693 - val_accuracy: 0.9259\n",
      "Epoch 56/100\n",
      "7/7 [==============================] - 0s 43ms/step - loss: 0.0451 - accuracy: 0.9784 - val_loss: 0.3546 - val_accuracy: 0.9136\n",
      "Epoch 57/100\n",
      "7/7 [==============================] - 0s 49ms/step - loss: 0.0622 - accuracy: 0.9753 - val_loss: 0.3828 - val_accuracy: 0.9136\n",
      "Epoch 58/100\n",
      "7/7 [==============================] - 0s 43ms/step - loss: 0.0449 - accuracy: 0.9907 - val_loss: 0.3517 - val_accuracy: 0.9012\n",
      "Epoch 59/100\n",
      "7/7 [==============================] - 0s 44ms/step - loss: 0.0484 - accuracy: 0.9846 - val_loss: 0.3136 - val_accuracy: 0.9136\n",
      "Epoch 60/100\n",
      "7/7 [==============================] - 0s 44ms/step - loss: 0.0428 - accuracy: 0.9846 - val_loss: 0.3368 - val_accuracy: 0.9136\n",
      "Epoch 61/100\n",
      "7/7 [==============================] - 0s 45ms/step - loss: 0.0620 - accuracy: 0.9722 - val_loss: 0.2966 - val_accuracy: 0.9259\n",
      "Epoch 62/100\n",
      "7/7 [==============================] - 0s 47ms/step - loss: 0.0777 - accuracy: 0.9691 - val_loss: 0.2482 - val_accuracy: 0.9259\n",
      "Epoch 63/100\n",
      "7/7 [==============================] - 0s 42ms/step - loss: 0.0906 - accuracy: 0.9660 - val_loss: 0.3022 - val_accuracy: 0.9259\n",
      "Epoch 64/100\n",
      "7/7 [==============================] - 0s 43ms/step - loss: 0.0487 - accuracy: 0.9784 - val_loss: 0.3427 - val_accuracy: 0.9012\n",
      "Epoch 65/100\n",
      "7/7 [==============================] - 0s 46ms/step - loss: 0.0407 - accuracy: 0.9846 - val_loss: 0.2849 - val_accuracy: 0.9259\n",
      "Epoch 66/100\n",
      "7/7 [==============================] - 0s 43ms/step - loss: 0.0215 - accuracy: 0.9938 - val_loss: 0.2880 - val_accuracy: 0.9259\n",
      "Epoch 67/100\n",
      "7/7 [==============================] - 0s 45ms/step - loss: 0.0190 - accuracy: 0.9907 - val_loss: 0.3814 - val_accuracy: 0.9259\n",
      "Epoch 68/100\n",
      "7/7 [==============================] - 0s 48ms/step - loss: 0.0440 - accuracy: 0.9784 - val_loss: 0.4073 - val_accuracy: 0.9012\n",
      "Epoch 69/100\n",
      "7/7 [==============================] - 0s 47ms/step - loss: 0.0761 - accuracy: 0.9722 - val_loss: 0.3884 - val_accuracy: 0.9383\n",
      "Epoch 70/100\n",
      "7/7 [==============================] - 0s 47ms/step - loss: 0.0751 - accuracy: 0.9753 - val_loss: 0.4032 - val_accuracy: 0.8765\n",
      "Epoch 71/100\n",
      "7/7 [==============================] - 0s 49ms/step - loss: 0.1140 - accuracy: 0.9660 - val_loss: 0.2195 - val_accuracy: 0.9259\n",
      "Epoch 72/100\n",
      "7/7 [==============================] - 0s 47ms/step - loss: 0.0680 - accuracy: 0.9815 - val_loss: 0.2201 - val_accuracy: 0.9506\n",
      "Epoch 73/100\n",
      "7/7 [==============================] - 0s 47ms/step - loss: 0.0453 - accuracy: 0.9846 - val_loss: 0.2405 - val_accuracy: 0.9259\n",
      "Epoch 74/100\n",
      "7/7 [==============================] - 0s 49ms/step - loss: 0.0388 - accuracy: 0.9877 - val_loss: 0.2724 - val_accuracy: 0.9383\n",
      "Epoch 75/100\n",
      "7/7 [==============================] - 0s 49ms/step - loss: 0.0193 - accuracy: 0.9938 - val_loss: 0.3216 - val_accuracy: 0.9259\n",
      "Epoch 76/100\n",
      "7/7 [==============================] - 0s 48ms/step - loss: 0.0158 - accuracy: 0.9938 - val_loss: 0.3763 - val_accuracy: 0.9259\n",
      "Epoch 77/100\n",
      "7/7 [==============================] - 0s 49ms/step - loss: 0.0099 - accuracy: 1.0000 - val_loss: 0.3743 - val_accuracy: 0.9136\n",
      "Epoch 78/100\n",
      "7/7 [==============================] - 0s 45ms/step - loss: 0.0097 - accuracy: 0.9969 - val_loss: 0.4088 - val_accuracy: 0.9136\n",
      "Epoch 79/100\n",
      "7/7 [==============================] - 0s 46ms/step - loss: 0.0087 - accuracy: 1.0000 - val_loss: 0.3342 - val_accuracy: 0.9383\n",
      "Epoch 80/100\n",
      "7/7 [==============================] - 0s 43ms/step - loss: 0.0116 - accuracy: 0.9938 - val_loss: 0.3717 - val_accuracy: 0.9136\n",
      "Epoch 81/100\n",
      "7/7 [==============================] - 0s 41ms/step - loss: 0.0199 - accuracy: 0.9938 - val_loss: 0.4954 - val_accuracy: 0.9136\n",
      "Epoch 82/100\n",
      "7/7 [==============================] - 0s 43ms/step - loss: 0.0334 - accuracy: 0.9938 - val_loss: 0.3240 - val_accuracy: 0.9259\n",
      "Epoch 83/100\n",
      "7/7 [==============================] - 0s 42ms/step - loss: 0.0333 - accuracy: 0.9907 - val_loss: 0.3489 - val_accuracy: 0.9259\n",
      "Epoch 84/100\n",
      "7/7 [==============================] - 0s 43ms/step - loss: 0.0154 - accuracy: 0.9969 - val_loss: 0.3758 - val_accuracy: 0.9136\n",
      "Epoch 85/100\n",
      "7/7 [==============================] - 0s 39ms/step - loss: 0.0153 - accuracy: 0.9938 - val_loss: 0.3683 - val_accuracy: 0.9259\n",
      "Epoch 86/100\n",
      "7/7 [==============================] - 0s 44ms/step - loss: 0.0209 - accuracy: 0.9969 - val_loss: 0.3092 - val_accuracy: 0.9506\n",
      "Epoch 87/100\n",
      "7/7 [==============================] - 0s 39ms/step - loss: 0.0452 - accuracy: 0.9907 - val_loss: 0.3746 - val_accuracy: 0.9259\n",
      "Epoch 88/100\n",
      "7/7 [==============================] - 0s 40ms/step - loss: 0.0817 - accuracy: 0.9630 - val_loss: 0.3701 - val_accuracy: 0.9012\n",
      "Epoch 89/100\n",
      "7/7 [==============================] - 0s 41ms/step - loss: 0.0585 - accuracy: 0.9784 - val_loss: 0.3238 - val_accuracy: 0.9136\n",
      "Epoch 90/100\n",
      "7/7 [==============================] - 0s 41ms/step - loss: 0.0396 - accuracy: 0.9815 - val_loss: 0.3181 - val_accuracy: 0.9259\n",
      "Epoch 91/100\n",
      "7/7 [==============================] - 0s 43ms/step - loss: 0.0337 - accuracy: 0.9846 - val_loss: 0.3290 - val_accuracy: 0.9383\n",
      "Epoch 92/100\n",
      "7/7 [==============================] - 0s 40ms/step - loss: 0.0296 - accuracy: 0.9877 - val_loss: 0.3538 - val_accuracy: 0.9136\n",
      "Epoch 93/100\n",
      "7/7 [==============================] - 0s 43ms/step - loss: 0.0129 - accuracy: 1.0000 - val_loss: 0.4183 - val_accuracy: 0.9136\n",
      "Epoch 94/100\n",
      "7/7 [==============================] - 0s 39ms/step - loss: 0.0152 - accuracy: 0.9969 - val_loss: 0.4200 - val_accuracy: 0.8889\n",
      "Epoch 95/100\n",
      "7/7 [==============================] - 0s 38ms/step - loss: 0.0085 - accuracy: 0.9969 - val_loss: 0.4426 - val_accuracy: 0.9136\n",
      "Epoch 96/100\n",
      "7/7 [==============================] - 0s 40ms/step - loss: 0.0096 - accuracy: 0.9969 - val_loss: 0.3306 - val_accuracy: 0.9383\n",
      "Epoch 97/100\n",
      "7/7 [==============================] - 0s 43ms/step - loss: 0.0037 - accuracy: 1.0000 - val_loss: 0.3608 - val_accuracy: 0.9383\n",
      "Epoch 98/100\n",
      "7/7 [==============================] - 0s 50ms/step - loss: 0.0064 - accuracy: 0.9969 - val_loss: 0.3467 - val_accuracy: 0.9259\n",
      "Epoch 99/100\n",
      "7/7 [==============================] - 0s 43ms/step - loss: 0.0047 - accuracy: 0.9969 - val_loss: 0.3905 - val_accuracy: 0.9259\n",
      "Epoch 100/100\n",
      "7/7 [==============================] - 0s 42ms/step - loss: 0.0186 - accuracy: 0.9938 - val_loss: 0.4707 - val_accuracy: 0.9259\n"
     ]
    },
    {
     "data": {
      "text/plain": [
       "<keras.callbacks.History at 0x20b99e1c0a0>"
      ]
     },
     "execution_count": 10,
     "metadata": {},
     "output_type": "execute_result"
    }
   ],
   "source": [
    "model  = Sequential()\n",
    "model.add(LSTM(units = 102, return_sequences = True, input_shape = (30, 51)))\n",
    "model.add(Dropout(0.2))\n",
    "model.add(LSTM(units = 102, return_sequences = True))\n",
    "model.add(Dropout(0.2))\n",
    "model.add(LSTM(units = 51, return_sequences = True))\n",
    "# model.add(Dropout(0.2))\n",
    "model.add(LSTM(units = 51,return_sequences= False))\n",
    "model.add(Dropout(0.1))\n",
    "model.add(Dense(units = 1, activation=\"sigmoid\"))\n",
    "model.compile(optimizer=\"adam\", metrics = ['accuracy'], loss = \"binary_crossentropy\")\n",
    "model.fit(x_train,y_train,epochs=100,batch_size=51,validation_data=(x_test,y_test))"
   ]
  },
  {
   "cell_type": "code",
   "execution_count": 11,
   "metadata": {},
   "outputs": [
    {
     "name": "stdout",
     "output_type": "stream",
     "text": [
      "3/3 [==============================] - 2s 13ms/step\n"
     ]
    }
   ],
   "source": [
    "res=model.predict(x_test)\n"
   ]
  },
  {
   "cell_type": "code",
   "execution_count": 12,
   "metadata": {},
   "outputs": [
    {
     "data": {
      "text/plain": [
       "0"
      ]
     },
     "execution_count": 12,
     "metadata": {},
     "output_type": "execute_result"
    }
   ],
   "source": [
    "np.argmax(res[3])"
   ]
  },
  {
   "cell_type": "code",
   "execution_count": 13,
   "metadata": {},
   "outputs": [
    {
     "data": {
      "text/plain": [
       "0"
      ]
     },
     "execution_count": 13,
     "metadata": {},
     "output_type": "execute_result"
    }
   ],
   "source": [
    "np.argmax(y_test[3])"
   ]
  },
  {
   "cell_type": "code",
   "execution_count": 14,
   "metadata": {},
   "outputs": [],
   "source": [
    "model.save('weight_pose.h5')"
   ]
  },
  {
   "cell_type": "code",
   "execution_count": 15,
   "metadata": {},
   "outputs": [
    {
     "name": "stdout",
     "output_type": "stream",
     "text": [
      "Model: \"sequential\"\n",
      "_________________________________________________________________\n",
      " Layer (type)                Output Shape              Param #   \n",
      "=================================================================\n",
      " lstm (LSTM)                 (None, 30, 102)           62832     \n",
      "                                                                 \n",
      " dropout (Dropout)           (None, 30, 102)           0         \n",
      "                                                                 \n",
      " lstm_1 (LSTM)               (None, 30, 102)           83640     \n",
      "                                                                 \n",
      " dropout_1 (Dropout)         (None, 30, 102)           0         \n",
      "                                                                 \n",
      " lstm_2 (LSTM)               (None, 30, 51)            31416     \n",
      "                                                                 \n",
      " lstm_3 (LSTM)               (None, 51)                21012     \n",
      "                                                                 \n",
      " dropout_2 (Dropout)         (None, 51)                0         \n",
      "                                                                 \n",
      " dense (Dense)               (None, 1)                 52        \n",
      "                                                                 \n",
      "=================================================================\n",
      "Total params: 198,952\n",
      "Trainable params: 198,952\n",
      "Non-trainable params: 0\n",
      "_________________________________________________________________\n"
     ]
    }
   ],
   "source": [
    "model.summary()"
   ]
  }
 ],
 "metadata": {
  "kernelspec": {
   "display_name": "Python 3.10.8 ('pythonProject')",
   "language": "python",
   "name": "python3"
  },
  "language_info": {
   "codemirror_mode": {
    "name": "ipython",
    "version": 3
   },
   "file_extension": ".py",
   "mimetype": "text/x-python",
   "name": "python",
   "nbconvert_exporter": "python",
   "pygments_lexer": "ipython3",
   "version": "3.10.8"
  },
  "orig_nbformat": 4,
  "vscode": {
   "interpreter": {
    "hash": "ab47d8f26d0de71b951a80b6ec953abb660ed114394f9d340a18606f921977ea"
   }
  }
 },
 "nbformat": 4,
 "nbformat_minor": 2
}

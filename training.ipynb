{
 "cells": [
  {
   "cell_type": "code",
   "execution_count": 22,
   "metadata": {},
   "outputs": [],
   "source": [
    "import numpy as np\n",
    "import pandas as pd\n",
    "import tensorflow as tf\n",
    "import glob\n",
    "from sklearn.model_selection import train_test_split\n",
    "from tensorflow.keras.models import Sequential\n",
    "from tensorflow.keras.layers import LSTM,Dense,Dropout\n",
    "import matplotlib.pyplot as plt\n",
    "from sklearn.metrics import ConfusionMatrixDisplay,confusion_matrix\n"
   ]
  },
  {
   "cell_type": "code",
   "execution_count": null,
   "metadata": {},
   "outputs": [],
   "source": [
    "gpu=tf.config.experimental.list_physical_devices('GPU')\n",
    "tf.config.experimental.set_memory_growth(gpu[0],True)"
   ]
  },
  {
   "cell_type": "code",
   "execution_count": 3,
   "metadata": {},
   "outputs": [],
   "source": [
    "path1=glob.glob('SAMPLE_F/*')\n",
    "path2=glob.glob('SAMPLE_w/*')"
   ]
  },
  {
   "cell_type": "code",
   "execution_count": 4,
   "metadata": {},
   "outputs": [],
   "source": [
    "x=[]\n",
    "y=[]"
   ]
  },
  {
   "cell_type": "code",
   "execution_count": 5,
   "metadata": {},
   "outputs": [],
   "source": [
    "for i in path1:\n",
    "    df=pd.read_csv(i)\n",
    "    dataset=df.iloc[:,1:].values\n",
    "    x.append(dataset)\n",
    "    y.append(1)"
   ]
  },
  {
   "cell_type": "code",
   "execution_count": 6,
   "metadata": {},
   "outputs": [],
   "source": [
    "for i in path2:\n",
    "    df=pd.read_csv(i)\n",
    "    dataset=df.iloc[:,1:].values\n",
    "    for i in range(0,len(dataset),15):\n",
    "        if i+15>len(dataset):break\n",
    "        x.append(dataset[i:15+i])\n",
    "        y.append(0)"
   ]
  },
  {
   "cell_type": "code",
   "execution_count": 7,
   "metadata": {},
   "outputs": [],
   "source": [
    "x=np.array(x)"
   ]
  },
  {
   "cell_type": "code",
   "execution_count": null,
   "metadata": {},
   "outputs": [],
   "source": [
    "x.shape"
   ]
  },
  {
   "cell_type": "code",
   "execution_count": 8,
   "metadata": {},
   "outputs": [
    {
     "data": {
      "text/plain": [
       "(770,)"
      ]
     },
     "execution_count": 8,
     "metadata": {},
     "output_type": "execute_result"
    }
   ],
   "source": [
    "y=np.array(y)\n",
    "y.shape"
   ]
  },
  {
   "cell_type": "code",
   "execution_count": 9,
   "metadata": {},
   "outputs": [],
   "source": [
    "x_train,x_test,y_train,y_test=train_test_split(x,y,test_size=0.2)"
   ]
  },
  {
   "cell_type": "code",
   "execution_count": null,
   "metadata": {},
   "outputs": [],
   "source": [
    "model  = Sequential()\n",
    "model.add(LSTM(units = 102, return_sequences = True, input_shape = (15, 51)))\n",
    "model.add(Dropout(0.2))\n",
    "model.add(LSTM(units = 102, return_sequences = True))\n",
    "model.add(Dropout(0.2))\n",
    "model.add(LSTM(units = 51, return_sequences = True))\n",
    "# model.add(Dropout(0.2))\n",
    "model.add(LSTM(units = 51,return_sequences= False))\n",
    "model.add(Dropout(0.1))\n",
    "model.add(Dense(units = 1, activation=\"sigmoid\"))\n",
    "model.compile(optimizer=\"adam\", metrics = ['accuracy'], loss = \"binary_crossentropy\")\n",
    "model.fit(x_train,y_train,epochs=100,batch_size=51,validation_data=(x_test,y_test))"
   ]
  },
  {
   "cell_type": "code",
   "execution_count": null,
   "metadata": {},
   "outputs": [],
   "source": [
    "res=model.predict(x_test)\n"
   ]
  },
  {
   "cell_type": "code",
   "execution_count": null,
   "metadata": {},
   "outputs": [],
   "source": [
    "np.argmax(res[3])"
   ]
  },
  {
   "cell_type": "code",
   "execution_count": null,
   "metadata": {},
   "outputs": [],
   "source": [
    "np.argmax(y_test[3])"
   ]
  },
  {
   "cell_type": "code",
   "execution_count": null,
   "metadata": {},
   "outputs": [],
   "source": [
    "model.save('weight_pose.h5')"
   ]
  },
  {
   "cell_type": "code",
   "execution_count": null,
   "metadata": {},
   "outputs": [],
   "source": [
    "model.summary()"
   ]
  },
  {
   "attachments": {},
   "cell_type": "markdown",
   "metadata": {},
   "source": [
    "FINAL"
   ]
  },
  {
   "cell_type": "code",
   "execution_count": 2,
   "metadata": {},
   "outputs": [
    {
     "name": "stdout",
     "output_type": "stream",
     "text": [
      "Epoch 1/50\n",
      "13/13 [==============================] - 11s 136ms/step - loss: 0.6273 - accuracy: 0.6445 - val_loss: 0.4633 - val_accuracy: 0.8052\n",
      "Epoch 2/50\n",
      "13/13 [==============================] - 0s 18ms/step - loss: 0.3142 - accuracy: 0.8896 - val_loss: 0.1999 - val_accuracy: 0.9286\n",
      "Epoch 3/50\n",
      "13/13 [==============================] - 0s 18ms/step - loss: 0.1773 - accuracy: 0.9481 - val_loss: 0.1001 - val_accuracy: 0.9675\n",
      "Epoch 4/50\n",
      "13/13 [==============================] - 0s 18ms/step - loss: 0.0907 - accuracy: 0.9708 - val_loss: 0.1087 - val_accuracy: 0.9675\n",
      "Epoch 5/50\n",
      "13/13 [==============================] - 0s 18ms/step - loss: 0.0894 - accuracy: 0.9789 - val_loss: 0.0919 - val_accuracy: 0.9675\n",
      "Epoch 6/50\n",
      "13/13 [==============================] - 0s 17ms/step - loss: 0.0820 - accuracy: 0.9740 - val_loss: 0.2374 - val_accuracy: 0.9286\n",
      "Epoch 7/50\n",
      "13/13 [==============================] - 0s 17ms/step - loss: 0.0853 - accuracy: 0.9708 - val_loss: 0.0582 - val_accuracy: 0.9805\n",
      "Epoch 8/50\n",
      "13/13 [==============================] - 0s 17ms/step - loss: 0.0555 - accuracy: 0.9805 - val_loss: 0.0420 - val_accuracy: 0.9935\n",
      "Epoch 9/50\n",
      "13/13 [==============================] - 0s 17ms/step - loss: 0.0659 - accuracy: 0.9756 - val_loss: 0.1016 - val_accuracy: 0.9545\n",
      "Epoch 10/50\n",
      "13/13 [==============================] - 0s 17ms/step - loss: 0.0590 - accuracy: 0.9821 - val_loss: 0.0571 - val_accuracy: 0.9805\n",
      "Epoch 11/50\n",
      "13/13 [==============================] - 0s 17ms/step - loss: 0.1687 - accuracy: 0.9562 - val_loss: 0.0903 - val_accuracy: 0.9675\n",
      "Epoch 12/50\n",
      "13/13 [==============================] - 0s 17ms/step - loss: 0.1268 - accuracy: 0.9643 - val_loss: 0.0656 - val_accuracy: 0.9870\n",
      "Epoch 13/50\n",
      "13/13 [==============================] - 0s 17ms/step - loss: 0.0646 - accuracy: 0.9821 - val_loss: 0.0675 - val_accuracy: 0.9740\n",
      "Epoch 14/50\n",
      "13/13 [==============================] - 0s 17ms/step - loss: 0.0444 - accuracy: 0.9870 - val_loss: 0.0643 - val_accuracy: 0.9805\n",
      "Epoch 15/50\n",
      "13/13 [==============================] - 0s 17ms/step - loss: 0.0701 - accuracy: 0.9805 - val_loss: 0.1196 - val_accuracy: 0.9610\n",
      "Epoch 16/50\n",
      "13/13 [==============================] - 0s 18ms/step - loss: 0.0801 - accuracy: 0.9789 - val_loss: 0.0468 - val_accuracy: 0.9870\n",
      "Epoch 17/50\n",
      "13/13 [==============================] - 0s 17ms/step - loss: 0.0494 - accuracy: 0.9805 - val_loss: 0.0780 - val_accuracy: 0.9610\n",
      "Epoch 18/50\n",
      "13/13 [==============================] - 0s 17ms/step - loss: 0.0375 - accuracy: 0.9919 - val_loss: 0.0911 - val_accuracy: 0.9481\n",
      "Epoch 19/50\n",
      "13/13 [==============================] - 0s 17ms/step - loss: 0.0423 - accuracy: 0.9903 - val_loss: 0.0337 - val_accuracy: 0.9870\n",
      "Epoch 20/50\n",
      "13/13 [==============================] - 0s 17ms/step - loss: 0.0331 - accuracy: 0.9919 - val_loss: 0.0481 - val_accuracy: 0.9870\n",
      "Epoch 21/50\n",
      "13/13 [==============================] - 0s 25ms/step - loss: 0.0356 - accuracy: 0.9935 - val_loss: 0.0373 - val_accuracy: 0.9870\n",
      "Epoch 22/50\n",
      "13/13 [==============================] - 0s 18ms/step - loss: 0.0376 - accuracy: 0.9935 - val_loss: 0.0475 - val_accuracy: 0.9870\n",
      "Epoch 23/50\n",
      "13/13 [==============================] - 0s 17ms/step - loss: 0.1136 - accuracy: 0.9692 - val_loss: 0.1093 - val_accuracy: 0.9545\n",
      "Epoch 24/50\n",
      "13/13 [==============================] - 0s 17ms/step - loss: 0.0994 - accuracy: 0.9659 - val_loss: 0.0533 - val_accuracy: 0.9870\n",
      "Epoch 25/50\n",
      "13/13 [==============================] - 0s 17ms/step - loss: 0.0482 - accuracy: 0.9870 - val_loss: 0.0411 - val_accuracy: 0.9935\n",
      "Epoch 26/50\n",
      "13/13 [==============================] - 0s 17ms/step - loss: 0.0353 - accuracy: 0.9886 - val_loss: 0.0341 - val_accuracy: 0.9870\n",
      "Epoch 27/50\n",
      "13/13 [==============================] - 0s 17ms/step - loss: 0.0318 - accuracy: 0.9919 - val_loss: 0.0309 - val_accuracy: 0.9935\n",
      "Epoch 28/50\n",
      "13/13 [==============================] - 0s 17ms/step - loss: 0.0313 - accuracy: 0.9935 - val_loss: 0.0401 - val_accuracy: 0.9870\n",
      "Epoch 29/50\n",
      "13/13 [==============================] - 0s 17ms/step - loss: 0.0633 - accuracy: 0.9821 - val_loss: 0.0307 - val_accuracy: 0.9870\n",
      "Epoch 30/50\n",
      "13/13 [==============================] - 0s 17ms/step - loss: 0.0679 - accuracy: 0.9773 - val_loss: 0.0493 - val_accuracy: 0.9805\n",
      "Epoch 31/50\n",
      "13/13 [==============================] - 0s 17ms/step - loss: 0.0384 - accuracy: 0.9935 - val_loss: 0.0361 - val_accuracy: 0.9870\n",
      "Epoch 32/50\n",
      "13/13 [==============================] - 0s 17ms/step - loss: 0.0313 - accuracy: 0.9903 - val_loss: 0.0375 - val_accuracy: 0.9805\n",
      "Epoch 33/50\n",
      "13/13 [==============================] - 0s 17ms/step - loss: 0.0370 - accuracy: 0.9903 - val_loss: 0.1851 - val_accuracy: 0.9545\n",
      "Epoch 34/50\n",
      "13/13 [==============================] - 0s 17ms/step - loss: 0.2021 - accuracy: 0.9253 - val_loss: 0.1204 - val_accuracy: 0.9805\n",
      "Epoch 35/50\n",
      "13/13 [==============================] - 0s 17ms/step - loss: 0.0667 - accuracy: 0.9854 - val_loss: 0.0739 - val_accuracy: 0.9805\n",
      "Epoch 36/50\n",
      "13/13 [==============================] - 0s 17ms/step - loss: 0.0312 - accuracy: 0.9870 - val_loss: 0.0437 - val_accuracy: 0.9870\n",
      "Epoch 37/50\n",
      "13/13 [==============================] - 0s 16ms/step - loss: 0.0243 - accuracy: 0.9935 - val_loss: 0.0502 - val_accuracy: 0.9870\n",
      "Epoch 38/50\n",
      "13/13 [==============================] - 0s 17ms/step - loss: 0.0547 - accuracy: 0.9821 - val_loss: 0.2402 - val_accuracy: 0.9221\n",
      "Epoch 39/50\n",
      "13/13 [==============================] - 0s 18ms/step - loss: 0.1358 - accuracy: 0.9545 - val_loss: 0.0793 - val_accuracy: 0.9805\n",
      "Epoch 40/50\n",
      "13/13 [==============================] - 0s 18ms/step - loss: 0.1102 - accuracy: 0.9708 - val_loss: 0.0724 - val_accuracy: 0.9805\n",
      "Epoch 41/50\n",
      "13/13 [==============================] - 0s 17ms/step - loss: 0.0670 - accuracy: 0.9773 - val_loss: 0.0573 - val_accuracy: 0.9805\n",
      "Epoch 42/50\n",
      "13/13 [==============================] - 0s 18ms/step - loss: 0.0356 - accuracy: 0.9886 - val_loss: 0.0301 - val_accuracy: 0.9935\n",
      "Epoch 43/50\n",
      "13/13 [==============================] - 0s 17ms/step - loss: 0.0216 - accuracy: 0.9968 - val_loss: 0.0298 - val_accuracy: 0.9870\n",
      "Epoch 44/50\n",
      "13/13 [==============================] - 0s 17ms/step - loss: 0.0199 - accuracy: 0.9951 - val_loss: 0.0432 - val_accuracy: 0.9870\n",
      "Epoch 45/50\n",
      "13/13 [==============================] - 0s 17ms/step - loss: 0.0121 - accuracy: 0.9968 - val_loss: 0.0634 - val_accuracy: 0.9870\n",
      "Epoch 46/50\n",
      "13/13 [==============================] - 0s 17ms/step - loss: 0.0079 - accuracy: 0.9984 - val_loss: 0.0282 - val_accuracy: 0.9870\n",
      "Epoch 47/50\n",
      "13/13 [==============================] - 0s 17ms/step - loss: 0.0046 - accuracy: 1.0000 - val_loss: 0.0644 - val_accuracy: 0.9870\n",
      "Epoch 48/50\n",
      "13/13 [==============================] - 0s 18ms/step - loss: 0.0040 - accuracy: 1.0000 - val_loss: 0.0586 - val_accuracy: 0.9870\n",
      "Epoch 49/50\n",
      "13/13 [==============================] - 0s 17ms/step - loss: 0.0535 - accuracy: 0.9854 - val_loss: 0.0774 - val_accuracy: 0.9740\n",
      "Epoch 50/50\n",
      "13/13 [==============================] - 0s 17ms/step - loss: 0.0684 - accuracy: 0.9805 - val_loss: 0.0315 - val_accuracy: 0.9805\n"
     ]
    }
   ],
   "source": [
    "gpu=tf.config.experimental.list_physical_devices('GPU')\n",
    "tf.config.experimental.set_memory_growth(gpu[0],True)\n",
    "path1=glob.glob('SAMPLE_F/*')\n",
    "path2=glob.glob('SAMPLE_w/*')\n",
    "x=[]\n",
    "y=[]\n",
    "\n",
    "for i in path1:\n",
    "    df=pd.read_csv(i)\n",
    "    dataset=df.iloc[:,1:].values\n",
    "    x.append(dataset)\n",
    "    y.append(1)\n",
    "\n",
    "for i in path2:\n",
    "    df=pd.read_csv(i)\n",
    "    dataset=df.iloc[:,1:].values\n",
    "    for i in range(0,len(dataset),15):\n",
    "        if i+15>len(dataset):break\n",
    "        x.append(dataset[i:15+i])\n",
    "        y.append(0)\n",
    "x=np.array(x)\n",
    "y=np.array(y)\n",
    "x_train,x_test,y_train,y_test=train_test_split(x,y,test_size=0.2)\n",
    "model  = Sequential()\n",
    "model.add(LSTM(units = 102, return_sequences = True, input_shape = (15, 51)))\n",
    "model.add(Dropout(0.2))\n",
    "model.add(LSTM(units = 102, return_sequences = True))\n",
    "model.add(Dropout(0.2))\n",
    "model.add(LSTM(units = 51, return_sequences = True))\n",
    "# model.add(Dropout(0.2))\n",
    "model.add(LSTM(units = 51,return_sequences= False))\n",
    "model.add(Dropout(0.1))\n",
    "model.add(Dense(units = 1, activation=\"sigmoid\"))\n",
    "model.compile(optimizer=\"adam\", metrics = ['accuracy'], loss = \"binary_crossentropy\")\n",
    "model.fit(x_train,y_train,epochs=50,batch_size=51,validation_data=(x_test,y_test))\n",
    "model.save('weight_pose.h5')"
   ]
  },
  {
   "cell_type": "code",
   "execution_count": 12,
   "metadata": {},
   "outputs": [],
   "source": [
    "model = keras.models.load_model('weight_pose.h5')"
   ]
  },
  {
   "cell_type": "code",
   "execution_count": 3,
   "metadata": {},
   "outputs": [
    {
     "name": "stdout",
     "output_type": "stream",
     "text": [
      "5/5 [==============================] - 1s 5ms/step\n"
     ]
    }
   ],
   "source": [
    "res=model.predict(x_test)\n"
   ]
  },
  {
   "cell_type": "code",
   "execution_count": 25,
   "metadata": {},
   "outputs": [
    {
     "data": {
      "text/plain": [
       "<function matplotlib.pyplot.show(close=None, block=None)>"
      ]
     },
     "execution_count": 25,
     "metadata": {},
     "output_type": "execute_result"
    },
    {
     "data": {
      "image/png": "[encoded data removed]",
      "text/plain": [
       "<Figure size 640x480 with 2 Axes>"
      ]
     },
     "metadata": {},
     "output_type": "display_data"
    }
   ],
   "source": [
    "cm=confusion_matrix(y_true=y_test,y_pred=np.around(res),normalize='true')\n",
    "disp=ConfusionMatrixDisplay(cm,display_labels=['Not Fall','Fall detect'])\n",
    "disp.plot(cmap=plt.cm.Blues)\n",
    "plt.show"
   ]
  }
 ],
 "metadata": {
  "kernelspec": {
   "display_name": "Python 3.10.8 ('pythonProject')",
   "language": "python",
   "name": "python3"
  },
  "language_info": {
   "codemirror_mode": {
    "name": "ipython",
    "version": 3
   },
   "file_extension": ".py",
   "mimetype": "text/x-python",
   "name": "python",
   "nbconvert_exporter": "python",
   "pygments_lexer": "ipython3",
   "version": "3.10.8"
  },
  "orig_nbformat": 4,
  "vscode": {
   "interpreter": {
    "hash": "ab47d8f26d0de71b951a80b6ec953abb660ed114394f9d340a18606f921977ea"
   }
  }
 },
 "nbformat": 4,
 "nbformat_minor": 2
}

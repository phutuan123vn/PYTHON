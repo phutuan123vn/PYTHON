{
 "cells": [
  {
   "cell_type": "code",
   "execution_count": 2,
   "metadata": {},
   "outputs": [],
   "source": [
    "import numpy as np\n",
    "import pandas as pd\n",
    "import tensorflow as tf\n",
    "import glob\n",
    "from sklearn.model_selection import train_test_split\n",
    "from tensorflow.keras.models import Sequential\n",
    "from tensorflow.keras.layers import LSTM,Dense,Dropout\n"
   ]
  },
  {
   "cell_type": "code",
   "execution_count": 3,
   "metadata": {},
   "outputs": [],
   "source": [
    "gpu=tf.config.experimental.list_physical_devices('GPU')\n",
    "tf.config.experimental.set_memory_growth(gpu[0],True)"
   ]
  },
  {
   "cell_type": "code",
   "execution_count": 19,
   "metadata": {},
   "outputs": [],
   "source": [
    "path1=glob.glob('SAMPLE_F/*')\n",
    "path2=glob.glob('SAMPLE_w/*')"
   ]
  },
  {
   "cell_type": "code",
   "execution_count": 20,
   "metadata": {},
   "outputs": [],
   "source": [
    "x=[]\n",
    "y=[]"
   ]
  },
  {
   "cell_type": "code",
   "execution_count": 22,
   "metadata": {},
   "outputs": [],
   "source": [
    "for i in path1:\n",
    "    df=pd.read_csv(i)\n",
    "    dataset=df.iloc[:,1:].values\n",
    "    x.append(dataset)\n",
    "    y.append(1)"
   ]
  },
  {
   "cell_type": "code",
   "execution_count": 23,
   "metadata": {},
   "outputs": [],
   "source": [
    "for i in path2:\n",
    "    df=pd.read_csv(i)\n",
    "    dataset=df.iloc[:,1:].values\n",
    "    for i in range(0,len(dataset),15):\n",
    "        if i+15>len(dataset):break\n",
    "        x.append(dataset[i:15+i])\n",
    "        y.append(0)"
   ]
  },
  {
   "cell_type": "code",
   "execution_count": 24,
   "metadata": {},
   "outputs": [],
   "source": [
    "x=np.array(x)"
   ]
  },
  {
   "cell_type": "code",
   "execution_count": 25,
   "metadata": {},
   "outputs": [
    {
     "data": {
      "text/plain": [
       "(770, 15, 51)"
      ]
     },
     "execution_count": 25,
     "metadata": {},
     "output_type": "execute_result"
    }
   ],
   "source": [
    "x.shape"
   ]
  },
  {
   "cell_type": "code",
   "execution_count": 27,
   "metadata": {},
   "outputs": [
    {
     "data": {
      "text/plain": [
       "(770,)"
      ]
     },
     "execution_count": 27,
     "metadata": {},
     "output_type": "execute_result"
    }
   ],
   "source": [
    "y=np.array(y)\n",
    "y.shape"
   ]
  },
  {
   "cell_type": "code",
   "execution_count": 28,
   "metadata": {},
   "outputs": [],
   "source": [
    "x_train,x_test,y_train,y_test=train_test_split(x,y,test_size=0.2)"
   ]
  },
  {
   "cell_type": "code",
   "execution_count": 30,
   "metadata": {},
   "outputs": [
    {
     "name": "stdout",
     "output_type": "stream",
     "text": [
      "Epoch 1/100\n",
      "13/13 [==============================] - 11s 135ms/step - loss: 0.6397 - accuracy: 0.6201 - val_loss: 0.4880 - val_accuracy: 0.7922\n",
      "Epoch 2/100\n",
      "13/13 [==============================] - 0s 18ms/step - loss: 0.2854 - accuracy: 0.8961 - val_loss: 0.1581 - val_accuracy: 0.9481\n",
      "Epoch 3/100\n",
      "13/13 [==============================] - 0s 18ms/step - loss: 0.1505 - accuracy: 0.9545 - val_loss: 0.1094 - val_accuracy: 0.9675\n",
      "Epoch 4/100\n",
      "13/13 [==============================] - 0s 17ms/step - loss: 0.0999 - accuracy: 0.9740 - val_loss: 0.0890 - val_accuracy: 0.9740\n",
      "Epoch 5/100\n",
      "13/13 [==============================] - 0s 19ms/step - loss: 0.0765 - accuracy: 0.9773 - val_loss: 0.1263 - val_accuracy: 0.9610\n",
      "Epoch 6/100\n",
      "13/13 [==============================] - 0s 17ms/step - loss: 0.1365 - accuracy: 0.9562 - val_loss: 0.1049 - val_accuracy: 0.9805\n",
      "Epoch 7/100\n",
      "13/13 [==============================] - 0s 18ms/step - loss: 0.1069 - accuracy: 0.9643 - val_loss: 0.0444 - val_accuracy: 0.9935\n",
      "Epoch 8/100\n",
      "13/13 [==============================] - 0s 18ms/step - loss: 0.0898 - accuracy: 0.9773 - val_loss: 0.0926 - val_accuracy: 0.9675\n",
      "Epoch 9/100\n",
      "13/13 [==============================] - 0s 18ms/step - loss: 0.0535 - accuracy: 0.9870 - val_loss: 0.0869 - val_accuracy: 0.9740\n",
      "Epoch 10/100\n",
      "13/13 [==============================] - 0s 18ms/step - loss: 0.0635 - accuracy: 0.9838 - val_loss: 0.0215 - val_accuracy: 0.9935\n",
      "Epoch 11/100\n",
      "13/13 [==============================] - 0s 18ms/step - loss: 0.0473 - accuracy: 0.9886 - val_loss: 0.0191 - val_accuracy: 0.9935\n",
      "Epoch 12/100\n",
      "13/13 [==============================] - 0s 18ms/step - loss: 0.0527 - accuracy: 0.9838 - val_loss: 0.0255 - val_accuracy: 0.9870\n",
      "Epoch 13/100\n",
      "13/13 [==============================] - 0s 18ms/step - loss: 0.0377 - accuracy: 0.9903 - val_loss: 0.0103 - val_accuracy: 1.0000\n",
      "Epoch 14/100\n",
      "13/13 [==============================] - 0s 18ms/step - loss: 0.0356 - accuracy: 0.9935 - val_loss: 0.0113 - val_accuracy: 1.0000\n",
      "Epoch 15/100\n",
      "13/13 [==============================] - 0s 18ms/step - loss: 0.0298 - accuracy: 0.9935 - val_loss: 0.0132 - val_accuracy: 0.9935\n",
      "Epoch 16/100\n",
      "13/13 [==============================] - 0s 18ms/step - loss: 0.0369 - accuracy: 0.9870 - val_loss: 0.0140 - val_accuracy: 0.9935\n",
      "Epoch 17/100\n",
      "13/13 [==============================] - 0s 18ms/step - loss: 0.0319 - accuracy: 0.9903 - val_loss: 0.1023 - val_accuracy: 0.9740\n",
      "Epoch 18/100\n",
      "13/13 [==============================] - 0s 18ms/step - loss: 0.0581 - accuracy: 0.9854 - val_loss: 0.0126 - val_accuracy: 1.0000\n",
      "Epoch 19/100\n",
      "13/13 [==============================] - 0s 17ms/step - loss: 0.0360 - accuracy: 0.9935 - val_loss: 0.0129 - val_accuracy: 0.9935\n",
      "Epoch 20/100\n",
      "13/13 [==============================] - 0s 18ms/step - loss: 0.0285 - accuracy: 0.9919 - val_loss: 0.0074 - val_accuracy: 1.0000\n",
      "Epoch 21/100\n",
      "13/13 [==============================] - 0s 18ms/step - loss: 0.0336 - accuracy: 0.9903 - val_loss: 0.0264 - val_accuracy: 0.9935\n",
      "Epoch 22/100\n",
      "13/13 [==============================] - 0s 18ms/step - loss: 0.0361 - accuracy: 0.9870 - val_loss: 0.0110 - val_accuracy: 1.0000\n",
      "Epoch 23/100\n",
      "13/13 [==============================] - 0s 18ms/step - loss: 0.0224 - accuracy: 0.9919 - val_loss: 0.3199 - val_accuracy: 0.8961\n",
      "Epoch 24/100\n",
      "13/13 [==============================] - 0s 18ms/step - loss: 0.1423 - accuracy: 0.9578 - val_loss: 0.1337 - val_accuracy: 0.9740\n",
      "Epoch 25/100\n",
      "13/13 [==============================] - 0s 18ms/step - loss: 0.0515 - accuracy: 0.9854 - val_loss: 0.0239 - val_accuracy: 0.9935\n",
      "Epoch 26/100\n",
      "13/13 [==============================] - 0s 18ms/step - loss: 0.0206 - accuracy: 0.9919 - val_loss: 0.0263 - val_accuracy: 0.9805\n",
      "Epoch 27/100\n",
      "13/13 [==============================] - 0s 18ms/step - loss: 0.0167 - accuracy: 0.9935 - val_loss: 0.0036 - val_accuracy: 1.0000\n",
      "Epoch 28/100\n",
      "13/13 [==============================] - 0s 18ms/step - loss: 0.0196 - accuracy: 0.9935 - val_loss: 0.0119 - val_accuracy: 1.0000\n",
      "Epoch 29/100\n",
      "13/13 [==============================] - 0s 17ms/step - loss: 0.0651 - accuracy: 0.9805 - val_loss: 0.1392 - val_accuracy: 0.9545\n",
      "Epoch 30/100\n",
      "13/13 [==============================] - 0s 18ms/step - loss: 0.0763 - accuracy: 0.9756 - val_loss: 0.0649 - val_accuracy: 0.9805\n",
      "Epoch 31/100\n",
      "13/13 [==============================] - 0s 18ms/step - loss: 0.0546 - accuracy: 0.9805 - val_loss: 0.0219 - val_accuracy: 0.9935\n",
      "Epoch 32/100\n",
      "13/13 [==============================] - 0s 18ms/step - loss: 0.0276 - accuracy: 0.9886 - val_loss: 0.0032 - val_accuracy: 1.0000\n",
      "Epoch 33/100\n",
      "13/13 [==============================] - 0s 18ms/step - loss: 0.0192 - accuracy: 0.9919 - val_loss: 0.0067 - val_accuracy: 1.0000\n",
      "Epoch 34/100\n",
      "13/13 [==============================] - 0s 18ms/step - loss: 0.0129 - accuracy: 0.9951 - val_loss: 0.0710 - val_accuracy: 0.9675\n",
      "Epoch 35/100\n",
      "13/13 [==============================] - 0s 17ms/step - loss: 0.0663 - accuracy: 0.9789 - val_loss: 0.0401 - val_accuracy: 0.9805\n",
      "Epoch 36/100\n",
      "13/13 [==============================] - 0s 18ms/step - loss: 0.0184 - accuracy: 0.9903 - val_loss: 0.0156 - val_accuracy: 0.9935\n",
      "Epoch 37/100\n",
      "13/13 [==============================] - 0s 18ms/step - loss: 0.0134 - accuracy: 0.9951 - val_loss: 0.0030 - val_accuracy: 1.0000\n",
      "Epoch 38/100\n",
      "13/13 [==============================] - 0s 18ms/step - loss: 0.0081 - accuracy: 0.9984 - val_loss: 0.0018 - val_accuracy: 1.0000\n",
      "Epoch 39/100\n",
      "13/13 [==============================] - 0s 17ms/step - loss: 0.0047 - accuracy: 1.0000 - val_loss: 0.0031 - val_accuracy: 1.0000\n",
      "Epoch 40/100\n",
      "13/13 [==============================] - 0s 17ms/step - loss: 0.0022 - accuracy: 1.0000 - val_loss: 0.0018 - val_accuracy: 1.0000\n",
      "Epoch 41/100\n",
      "13/13 [==============================] - 0s 17ms/step - loss: 0.0014 - accuracy: 1.0000 - val_loss: 0.0026 - val_accuracy: 1.0000\n",
      "Epoch 42/100\n",
      "13/13 [==============================] - 0s 18ms/step - loss: 0.0012 - accuracy: 1.0000 - val_loss: 8.5931e-04 - val_accuracy: 1.0000\n",
      "Epoch 43/100\n",
      "13/13 [==============================] - 0s 18ms/step - loss: 0.0011 - accuracy: 1.0000 - val_loss: 0.0021 - val_accuracy: 1.0000\n",
      "Epoch 44/100\n",
      "13/13 [==============================] - 0s 18ms/step - loss: 7.6789e-04 - accuracy: 1.0000 - val_loss: 0.0023 - val_accuracy: 1.0000\n",
      "Epoch 45/100\n",
      "13/13 [==============================] - 0s 17ms/step - loss: 7.3511e-04 - accuracy: 1.0000 - val_loss: 0.0031 - val_accuracy: 1.0000\n",
      "Epoch 46/100\n",
      "13/13 [==============================] - 0s 18ms/step - loss: 6.6405e-04 - accuracy: 1.0000 - val_loss: 0.0022 - val_accuracy: 1.0000\n",
      "Epoch 47/100\n",
      "13/13 [==============================] - 0s 18ms/step - loss: 5.4898e-04 - accuracy: 1.0000 - val_loss: 0.0017 - val_accuracy: 1.0000\n",
      "Epoch 48/100\n",
      "13/13 [==============================] - 0s 18ms/step - loss: 0.0193 - accuracy: 0.9968 - val_loss: 0.0541 - val_accuracy: 0.9870\n",
      "Epoch 49/100\n",
      "13/13 [==============================] - 0s 17ms/step - loss: 0.0869 - accuracy: 0.9756 - val_loss: 0.1070 - val_accuracy: 0.9675\n",
      "Epoch 50/100\n",
      "13/13 [==============================] - 0s 18ms/step - loss: 0.0614 - accuracy: 0.9821 - val_loss: 0.0258 - val_accuracy: 0.9870\n",
      "Epoch 51/100\n",
      "13/13 [==============================] - 0s 18ms/step - loss: 0.0349 - accuracy: 0.9903 - val_loss: 0.0381 - val_accuracy: 0.9870\n",
      "Epoch 52/100\n",
      "13/13 [==============================] - 0s 18ms/step - loss: 0.0252 - accuracy: 0.9951 - val_loss: 0.0038 - val_accuracy: 1.0000\n",
      "Epoch 53/100\n",
      "13/13 [==============================] - 0s 18ms/step - loss: 0.0063 - accuracy: 1.0000 - val_loss: 0.0058 - val_accuracy: 1.0000\n",
      "Epoch 54/100\n",
      "13/13 [==============================] - 0s 18ms/step - loss: 0.0036 - accuracy: 1.0000 - val_loss: 0.0018 - val_accuracy: 1.0000\n",
      "Epoch 55/100\n",
      "13/13 [==============================] - 0s 18ms/step - loss: 0.0065 - accuracy: 0.9984 - val_loss: 0.0067 - val_accuracy: 1.0000\n",
      "Epoch 56/100\n",
      "13/13 [==============================] - 0s 18ms/step - loss: 0.0021 - accuracy: 1.0000 - val_loss: 0.0229 - val_accuracy: 0.9935\n",
      "Epoch 57/100\n",
      "13/13 [==============================] - 0s 17ms/step - loss: 0.0016 - accuracy: 1.0000 - val_loss: 0.0012 - val_accuracy: 1.0000\n",
      "Epoch 58/100\n",
      "13/13 [==============================] - 0s 18ms/step - loss: 8.2696e-04 - accuracy: 1.0000 - val_loss: 9.5975e-04 - val_accuracy: 1.0000\n",
      "Epoch 59/100\n",
      "13/13 [==============================] - 0s 18ms/step - loss: 7.5427e-04 - accuracy: 1.0000 - val_loss: 8.8139e-04 - val_accuracy: 1.0000\n",
      "Epoch 60/100\n",
      "13/13 [==============================] - 0s 18ms/step - loss: 5.8969e-04 - accuracy: 1.0000 - val_loss: 6.5156e-04 - val_accuracy: 1.0000\n",
      "Epoch 61/100\n",
      "13/13 [==============================] - 0s 21ms/step - loss: 5.0758e-04 - accuracy: 1.0000 - val_loss: 6.6064e-04 - val_accuracy: 1.0000\n",
      "Epoch 62/100\n",
      "13/13 [==============================] - 0s 18ms/step - loss: 4.9916e-04 - accuracy: 1.0000 - val_loss: 6.6367e-04 - val_accuracy: 1.0000\n",
      "Epoch 63/100\n",
      "13/13 [==============================] - 0s 17ms/step - loss: 5.0681e-04 - accuracy: 1.0000 - val_loss: 5.5901e-04 - val_accuracy: 1.0000\n",
      "Epoch 64/100\n",
      "13/13 [==============================] - 0s 18ms/step - loss: 4.5631e-04 - accuracy: 1.0000 - val_loss: 5.6957e-04 - val_accuracy: 1.0000\n",
      "Epoch 65/100\n",
      "13/13 [==============================] - 0s 18ms/step - loss: 5.7046e-04 - accuracy: 1.0000 - val_loss: 0.0010 - val_accuracy: 1.0000\n",
      "Epoch 66/100\n",
      "13/13 [==============================] - 0s 17ms/step - loss: 0.0117 - accuracy: 0.9951 - val_loss: 0.0751 - val_accuracy: 0.9805\n",
      "Epoch 67/100\n",
      "13/13 [==============================] - 0s 18ms/step - loss: 0.0661 - accuracy: 0.9854 - val_loss: 0.0636 - val_accuracy: 0.9805\n",
      "Epoch 68/100\n",
      "13/13 [==============================] - 0s 18ms/step - loss: 0.0351 - accuracy: 0.9903 - val_loss: 0.0319 - val_accuracy: 0.9935\n",
      "Epoch 69/100\n",
      "13/13 [==============================] - 0s 18ms/step - loss: 0.0187 - accuracy: 0.9935 - val_loss: 0.0138 - val_accuracy: 0.9935\n",
      "Epoch 70/100\n",
      "13/13 [==============================] - 0s 18ms/step - loss: 0.0056 - accuracy: 1.0000 - val_loss: 0.0167 - val_accuracy: 0.9935\n",
      "Epoch 71/100\n",
      "13/13 [==============================] - 0s 18ms/step - loss: 0.0051 - accuracy: 0.9984 - val_loss: 0.0036 - val_accuracy: 1.0000\n",
      "Epoch 72/100\n",
      "13/13 [==============================] - 0s 18ms/step - loss: 0.0020 - accuracy: 1.0000 - val_loss: 6.0628e-04 - val_accuracy: 1.0000\n",
      "Epoch 73/100\n",
      "13/13 [==============================] - 0s 17ms/step - loss: 0.0015 - accuracy: 1.0000 - val_loss: 0.0126 - val_accuracy: 0.9935\n",
      "Epoch 74/100\n",
      "13/13 [==============================] - 0s 17ms/step - loss: 0.0011 - accuracy: 1.0000 - val_loss: 2.9421e-04 - val_accuracy: 1.0000\n",
      "Epoch 75/100\n",
      "13/13 [==============================] - 0s 18ms/step - loss: 0.0011 - accuracy: 1.0000 - val_loss: 0.0026 - val_accuracy: 1.0000\n",
      "Epoch 76/100\n",
      "13/13 [==============================] - 0s 19ms/step - loss: 5.1428e-04 - accuracy: 1.0000 - val_loss: 6.0373e-04 - val_accuracy: 1.0000\n",
      "Epoch 77/100\n",
      "13/13 [==============================] - 0s 17ms/step - loss: 4.1405e-04 - accuracy: 1.0000 - val_loss: 0.0016 - val_accuracy: 1.0000\n",
      "Epoch 78/100\n",
      "13/13 [==============================] - 0s 17ms/step - loss: 3.3287e-04 - accuracy: 1.0000 - val_loss: 0.0016 - val_accuracy: 1.0000\n",
      "Epoch 79/100\n",
      "13/13 [==============================] - 0s 18ms/step - loss: 3.1426e-04 - accuracy: 1.0000 - val_loss: 0.0013 - val_accuracy: 1.0000\n",
      "Epoch 80/100\n",
      "13/13 [==============================] - 0s 17ms/step - loss: 2.8406e-04 - accuracy: 1.0000 - val_loss: 0.0013 - val_accuracy: 1.0000\n",
      "Epoch 81/100\n",
      "13/13 [==============================] - 0s 17ms/step - loss: 2.8249e-04 - accuracy: 1.0000 - val_loss: 0.0059 - val_accuracy: 0.9935\n",
      "Epoch 82/100\n",
      "13/13 [==============================] - 0s 17ms/step - loss: 2.8026e-04 - accuracy: 1.0000 - val_loss: 0.0026 - val_accuracy: 1.0000\n",
      "Epoch 83/100\n",
      "13/13 [==============================] - 0s 18ms/step - loss: 2.3191e-04 - accuracy: 1.0000 - val_loss: 0.0010 - val_accuracy: 1.0000\n",
      "Epoch 84/100\n",
      "13/13 [==============================] - 0s 17ms/step - loss: 2.3017e-04 - accuracy: 1.0000 - val_loss: 8.1447e-04 - val_accuracy: 1.0000\n",
      "Epoch 85/100\n",
      "13/13 [==============================] - 0s 17ms/step - loss: 2.1517e-04 - accuracy: 1.0000 - val_loss: 7.4485e-04 - val_accuracy: 1.0000\n",
      "Epoch 86/100\n",
      "13/13 [==============================] - 0s 18ms/step - loss: 2.2700e-04 - accuracy: 1.0000 - val_loss: 6.3127e-04 - val_accuracy: 1.0000\n",
      "Epoch 87/100\n",
      "13/13 [==============================] - 0s 18ms/step - loss: 2.1693e-04 - accuracy: 1.0000 - val_loss: 6.9643e-04 - val_accuracy: 1.0000\n",
      "Epoch 88/100\n",
      "13/13 [==============================] - 0s 18ms/step - loss: 2.2015e-04 - accuracy: 1.0000 - val_loss: 6.7711e-04 - val_accuracy: 1.0000\n",
      "Epoch 89/100\n",
      "13/13 [==============================] - 0s 17ms/step - loss: 2.1781e-04 - accuracy: 1.0000 - val_loss: 9.2836e-04 - val_accuracy: 1.0000\n",
      "Epoch 90/100\n",
      "13/13 [==============================] - 0s 18ms/step - loss: 1.8291e-04 - accuracy: 1.0000 - val_loss: 6.8825e-04 - val_accuracy: 1.0000\n",
      "Epoch 91/100\n",
      "13/13 [==============================] - 0s 17ms/step - loss: 1.6370e-04 - accuracy: 1.0000 - val_loss: 5.6509e-04 - val_accuracy: 1.0000\n",
      "Epoch 92/100\n",
      "13/13 [==============================] - 0s 18ms/step - loss: 1.6481e-04 - accuracy: 1.0000 - val_loss: 5.4677e-04 - val_accuracy: 1.0000\n",
      "Epoch 93/100\n",
      "13/13 [==============================] - 0s 18ms/step - loss: 1.7096e-04 - accuracy: 1.0000 - val_loss: 5.4117e-04 - val_accuracy: 1.0000\n",
      "Epoch 94/100\n",
      "13/13 [==============================] - 0s 18ms/step - loss: 1.5723e-04 - accuracy: 1.0000 - val_loss: 6.4283e-04 - val_accuracy: 1.0000\n",
      "Epoch 95/100\n",
      "13/13 [==============================] - 0s 18ms/step - loss: 1.6108e-04 - accuracy: 1.0000 - val_loss: 4.8245e-04 - val_accuracy: 1.0000\n",
      "Epoch 96/100\n",
      "13/13 [==============================] - 0s 18ms/step - loss: 1.6246e-04 - accuracy: 1.0000 - val_loss: 3.8828e-04 - val_accuracy: 1.0000\n",
      "Epoch 97/100\n",
      "13/13 [==============================] - 0s 18ms/step - loss: 1.4460e-04 - accuracy: 1.0000 - val_loss: 3.4951e-04 - val_accuracy: 1.0000\n",
      "Epoch 98/100\n",
      "13/13 [==============================] - 0s 18ms/step - loss: 1.3648e-04 - accuracy: 1.0000 - val_loss: 3.9532e-04 - val_accuracy: 1.0000\n",
      "Epoch 99/100\n",
      "13/13 [==============================] - 0s 18ms/step - loss: 1.4341e-04 - accuracy: 1.0000 - val_loss: 5.1732e-04 - val_accuracy: 1.0000\n",
      "Epoch 100/100\n",
      "13/13 [==============================] - 0s 17ms/step - loss: 1.3067e-04 - accuracy: 1.0000 - val_loss: 5.0631e-04 - val_accuracy: 1.0000\n"
     ]
    },
    {
     "data": {
      "text/plain": [
       "<keras.callbacks.History at 0x1c173548490>"
      ]
     },
     "execution_count": 30,
     "metadata": {},
     "output_type": "execute_result"
    }
   ],
   "source": [
    "model  = Sequential()\n",
    "model.add(LSTM(units = 102, return_sequences = True, input_shape = (15, 51)))\n",
    "model.add(Dropout(0.2))\n",
    "model.add(LSTM(units = 102, return_sequences = True))\n",
    "model.add(Dropout(0.2))\n",
    "model.add(LSTM(units = 51, return_sequences = True))\n",
    "# model.add(Dropout(0.2))\n",
    "model.add(LSTM(units = 51,return_sequences= False))\n",
    "model.add(Dropout(0.1))\n",
    "model.add(Dense(units = 1, activation=\"sigmoid\"))\n",
    "model.compile(optimizer=\"adam\", metrics = ['accuracy'], loss = \"binary_crossentropy\")\n",
    "model.fit(x_train,y_train,epochs=100,batch_size=51,validation_data=(x_test,y_test))"
   ]
  },
  {
   "cell_type": "code",
   "execution_count": 11,
   "metadata": {},
   "outputs": [
    {
     "name": "stdout",
     "output_type": "stream",
     "text": [
      "3/3 [==============================] - 2s 13ms/step\n"
     ]
    }
   ],
   "source": [
    "res=model.predict(x_test)\n"
   ]
  },
  {
   "cell_type": "code",
   "execution_count": 12,
   "metadata": {},
   "outputs": [
    {
     "data": {
      "text/plain": [
       "0"
      ]
     },
     "execution_count": 12,
     "metadata": {},
     "output_type": "execute_result"
    }
   ],
   "source": [
    "np.argmax(res[3])"
   ]
  },
  {
   "cell_type": "code",
   "execution_count": 13,
   "metadata": {},
   "outputs": [
    {
     "data": {
      "text/plain": [
       "0"
      ]
     },
     "execution_count": 13,
     "metadata": {},
     "output_type": "execute_result"
    }
   ],
   "source": [
    "np.argmax(y_test[3])"
   ]
  },
  {
   "cell_type": "code",
   "execution_count": 14,
   "metadata": {},
   "outputs": [],
   "source": [
    "model.save('weight_pose.h5')"
   ]
  },
  {
   "cell_type": "code",
   "execution_count": 15,
   "metadata": {},
   "outputs": [
    {
     "name": "stdout",
     "output_type": "stream",
     "text": [
      "Model: \"sequential\"\n",
      "_________________________________________________________________\n",
      " Layer (type)                Output Shape              Param #   \n",
      "=================================================================\n",
      " lstm (LSTM)                 (None, 30, 102)           62832     \n",
      "                                                                 \n",
      " dropout (Dropout)           (None, 30, 102)           0         \n",
      "                                                                 \n",
      " lstm_1 (LSTM)               (None, 30, 102)           83640     \n",
      "                                                                 \n",
      " dropout_1 (Dropout)         (None, 30, 102)           0         \n",
      "                                                                 \n",
      " lstm_2 (LSTM)               (None, 30, 51)            31416     \n",
      "                                                                 \n",
      " lstm_3 (LSTM)               (None, 51)                21012     \n",
      "                                                                 \n",
      " dropout_2 (Dropout)         (None, 51)                0         \n",
      "                                                                 \n",
      " dense (Dense)               (None, 1)                 52        \n",
      "                                                                 \n",
      "=================================================================\n",
      "Total params: 198,952\n",
      "Trainable params: 198,952\n",
      "Non-trainable params: 0\n",
      "_________________________________________________________________\n"
     ]
    }
   ],
   "source": [
    "model.summary()"
   ]
  }
 ],
 "metadata": {
  "kernelspec": {
   "display_name": "Python 3.10.8 ('pythonProject')",
   "language": "python",
   "name": "python3"
  },
  "language_info": {
   "codemirror_mode": {
    "name": "ipython",
    "version": 3
   },
   "file_extension": ".py",
   "mimetype": "text/x-python",
   "name": "python",
   "nbconvert_exporter": "python",
   "pygments_lexer": "ipython3",
   "version": "3.10.8"
  },
  "orig_nbformat": 4,
  "vscode": {
   "interpreter": {
    "hash": "ab47d8f26d0de71b951a80b6ec953abb660ed114394f9d340a18606f921977ea"
   }
  }
 },
 "nbformat": 4,
 "nbformat_minor": 2
}

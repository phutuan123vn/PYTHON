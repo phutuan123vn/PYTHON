{
 "cells": [
  {
   "cell_type": "code",
   "execution_count": 1,
   "metadata": {},
   "outputs": [],
   "source": [
    "import numpy as np\n",
    "import cv2 \n",
    "import mediapipe as mp\n",
    "import tensorflow as tf\n",
    "import keras.models\n",
    "mp_draw=mp.solutions.drawing_utils\n",
    "mp_pose=mp.solutions.pose\n",
    "model = keras.models.load_model('weight_pose.h5')"
   ]
  },
  {
   "cell_type": "code",
   "execution_count": 2,
   "metadata": {},
   "outputs": [
    {
     "ename": "RuntimeError",
     "evalue": "Physical devices cannot be modified after being initialized",
     "output_type": "error",
     "traceback": [
      "\u001b[1;31m---------------------------------------------------------------------------\u001b[0m",
      "\u001b[1;31mRuntimeError\u001b[0m                              Traceback (most recent call last)",
      "Cell \u001b[1;32mIn [2], line 2\u001b[0m\n\u001b[0;32m      1\u001b[0m gpu\u001b[39m=\u001b[39mtf\u001b[39m.\u001b[39mconfig\u001b[39m.\u001b[39mexperimental\u001b[39m.\u001b[39mlist_physical_devices(\u001b[39m'\u001b[39m\u001b[39mGPU\u001b[39m\u001b[39m'\u001b[39m)\n\u001b[1;32m----> 2\u001b[0m tf\u001b[39m.\u001b[39;49mconfig\u001b[39m.\u001b[39;49mexperimental\u001b[39m.\u001b[39;49mset_memory_growth(gpu[\u001b[39m0\u001b[39;49m],\u001b[39mTrue\u001b[39;49;00m)\n",
      "File \u001b[1;32mc:\\Users\\PhuTuan\\anaconda3\\envs\\pythonProject\\lib\\site-packages\\tensorflow\\python\\framework\\config.py:716\u001b[0m, in \u001b[0;36mset_memory_growth\u001b[1;34m(device, enable)\u001b[0m\n\u001b[0;32m    691\u001b[0m \u001b[39m@tf_export\u001b[39m(\u001b[39m'\u001b[39m\u001b[39mconfig.experimental.set_memory_growth\u001b[39m\u001b[39m'\u001b[39m)\n\u001b[0;32m    692\u001b[0m \u001b[39mdef\u001b[39;00m \u001b[39mset_memory_growth\u001b[39m(device, enable):\n\u001b[0;32m    693\u001b[0m   \u001b[39m\"\"\"Set if memory growth should be enabled for a `PhysicalDevice`.\u001b[39;00m\n\u001b[0;32m    694\u001b[0m \n\u001b[0;32m    695\u001b[0m \u001b[39m  If memory growth is enabled for a `PhysicalDevice`, the runtime initialization\u001b[39;00m\n\u001b[1;32m   (...)\u001b[0m\n\u001b[0;32m    714\u001b[0m \u001b[39m    RuntimeError: Runtime is already initialized.\u001b[39;00m\n\u001b[0;32m    715\u001b[0m \u001b[39m  \"\"\"\u001b[39;00m\n\u001b[1;32m--> 716\u001b[0m   context\u001b[39m.\u001b[39;49mcontext()\u001b[39m.\u001b[39;49mset_memory_growth(device, enable)\n",
      "File \u001b[1;32mc:\\Users\\PhuTuan\\anaconda3\\envs\\pythonProject\\lib\\site-packages\\tensorflow\\python\\eager\\context.py:1666\u001b[0m, in \u001b[0;36mContext.set_memory_growth\u001b[1;34m(self, dev, enable)\u001b[0m\n\u001b[0;32m   1663\u001b[0m   \u001b[39mreturn\u001b[39;00m\n\u001b[0;32m   1665\u001b[0m \u001b[39mif\u001b[39;00m \u001b[39mself\u001b[39m\u001b[39m.\u001b[39m_context_handle \u001b[39mis\u001b[39;00m \u001b[39mnot\u001b[39;00m \u001b[39mNone\u001b[39;00m:\n\u001b[1;32m-> 1666\u001b[0m   \u001b[39mraise\u001b[39;00m \u001b[39mRuntimeError\u001b[39;00m(\n\u001b[0;32m   1667\u001b[0m       \u001b[39m\"\u001b[39m\u001b[39mPhysical devices cannot be modified after being initialized\u001b[39m\u001b[39m\"\u001b[39m)\n\u001b[0;32m   1669\u001b[0m \u001b[39mself\u001b[39m\u001b[39m.\u001b[39m_memory_growth_map[dev] \u001b[39m=\u001b[39m enable\n",
      "\u001b[1;31mRuntimeError\u001b[0m: Physical devices cannot be modified after being initialized"
     ]
    }
   ],
   "source": [
    "gpu=tf.config.experimental.list_physical_devices('GPU')\n",
    "tf.config.experimental.set_memory_growth(gpu[0],True)"
   ]
  },
  {
   "cell_type": "code",
   "execution_count": null,
   "metadata": {},
   "outputs": [],
   "source": [
    "def detection(img,model):\n",
    "    img=cv2.cvtColor(img,cv2.COLOR_BGR2RGB)\n",
    "    img.flags.writeable=False\n",
    "    results=model.process(img)\n",
    "    img.flags.writeable=True\n",
    "    img=cv2.cvtColor(img,cv2.COLOR_RGB2BGR)\n",
    "    return img,results\n"
   ]
  },
  {
   "cell_type": "code",
   "execution_count": null,
   "metadata": {},
   "outputs": [],
   "source": [
    "def draw_edit(landmarks,frame):\n",
    "    h,w,_=frame.shape\n",
    "    nose=np.array([[landmarks[mp_pose.PoseLandmark.NOSE].x*w,landmarks[mp_pose.PoseLandmark.NOSE].y*h]])\n",
    "    lft_shoulder=np.array([[landmarks[mp_pose.PoseLandmark.LEFT_SHOULDER].x*w,landmarks[mp_pose.PoseLandmark.LEFT_SHOULDER].y*h]])\n",
    "    rght_shoulder=np.array([[landmarks[mp_pose.PoseLandmark.RIGHT_SHOULDER].x*w,landmarks[mp_pose.PoseLandmark.RIGHT_SHOULDER].y*h]])\n",
    "    neck=((lft_shoulder+rght_shoulder)/2+nose)/2\n",
    "    chest_mid=(lft_shoulder+rght_shoulder)/2\n",
    "    x1,y1=np.squeeze(neck)\n",
    "    x2,y2=np.squeeze(chest_mid)\n",
    "    cv2.circle(frame, (int(x1), int(y1)), 6, (0,255,0), -1)\n",
    "    cv2.line(frame, (int(x1), int(y1)), (int(x2), int(y2)), (255,255,255), 4)\n",
    "    "
   ]
  },
  {
   "cell_type": "code",
   "execution_count": null,
   "metadata": {},
   "outputs": [],
   "source": [
    "def lay_mau(landmark,frame):\n",
    "    a=[]\n",
    "    for idx,lmk in enumerate(landmark):\n",
    "        if idx in [x for x in range(1,11)]:\n",
    "            continue\n",
    "        elif idx in [x for x in range(17,23)]:\n",
    "            continue\n",
    "        y=landmark[0].y\n",
    "        # cv2.putText(frame,'Cor:{}'.format(y),(50,50),cv2.FONT_HERSHEY_COMPLEX,1,(255,0,0),1,cv2.LINE_AA)\n",
    "        a.append(lmk.x)\n",
    "        a.append(lmk.y)\n",
    "        a.append(lmk.z)\n",
    "    return a"
   ]
  },
  {
   "cell_type": "code",
   "execution_count": null,
   "metadata": {},
   "outputs": [],
   "source": [
    "lst_sample=[]\n",
    "frame_num=30\n",
    "label=''\n",
    "with mp_pose.Pose(min_detection_confidence=0.5,min_tracking_confidence=0.5,model_complexity=1) as pose:\n",
    "    cap=cv2.VideoCapture('C:/Users/PhuTuan/Downloads/VIDEO23_TEST.mp4')\n",
    "    while cap.isOpened():\n",
    "        ret,frame=cap.read()\n",
    "        if ret:\n",
    "            img,results=detection(frame,pose)\n",
    "            mp_draw.draw_landmarks(img,results.pose_landmarks,mp_pose.POSE_CONNECTIONS)\n",
    "            try:\n",
    "                landmark=results.pose_landmarks.landmark\n",
    "                lst_sample.append(lay_mau(landmark,img))\n",
    "                print(len(lst_sample))\n",
    "                if len(lst_sample)==30:\n",
    "                    tensor=np.expand_dims(lst_sample,axis=0)\n",
    "                    lst_sample=[]\n",
    "                    action=model.predict(tensor)\n",
    "                    if action[0,0]>0.5:\n",
    "                        label='1'\n",
    "                    else:\n",
    "                        label='0'\n",
    "            except:\n",
    "                pass\n",
    "            cv2.putText(img,str(label),(50,50),cv2.FONT_HERSHEY_COMPLEX,2,(205,50,255),2,cv2.LINE_AA)\n",
    "            if cv2.waitKey(20)&0xFF==ord('q'):\n",
    "                break\n",
    "            cv2.imshow('Pose',img)\n",
    "        else:\n",
    "            break\n",
    "    cap.release()\n",
    "cv2.destroyAllWindows()"
   ]
  },
  {
   "cell_type": "code",
   "execution_count": null,
   "metadata": {},
   "outputs": [],
   "source": [
    "action"
   ]
  },
  {
   "cell_type": "code",
   "execution_count": null,
   "metadata": {},
   "outputs": [],
   "source": [
    "# lst_sample=[]\n",
    "# frame_num=30\n",
    "# label=''\n",
    "# with mp_pose.Pose(min_detection_confidence=0.5,min_tracking_confidence=0.5,model_complexity=1) as pose:\n",
    "#     # for i in path:\n",
    "#         cap=cv2.VideoCapture('chute07/cam5.avi')\n",
    "#         while cap.isOpened():\n",
    "#             ret,frame=cap.read()\n",
    "#             if ret:\n",
    "#                 img,results=detection(frame,pose)\n",
    "#                 mp_draw.draw_landmarks(img,results.pose_landmarks,mp_pose.POSE_CONNECTIONS)\n",
    "\n",
    "#                 landmarke=results.pose_landmarks.landmark\n",
    "#                 landmark=results.pose_landmarks.landmark\n",
    "#                 lst_sample.append(lay_mau(landmark,img))\n",
    "\n",
    "#                 if len(lst_sample)==30:\n",
    "#                     lst_sample_tensor=np.expand_dims(lst_sample,axis=0)[0]\n",
    "#                     lst_sample=[]\n",
    "#                     action=model.predict(lst_sample_tensor)\n",
    "#                     if action[0,0]>0.5:\n",
    "#                         label='1'\n",
    "#                     else:\n",
    "#                         label='0'\n",
    "#                 # mp_draw.draw_landmarks(img,results.pose_landmarks,mp_pose.POSE_CONNECTIONS)\n",
    "#                 # lst_sample.append(samples)\n",
    "#                 cv2.putText(img,str(label),(50,50),cv2.FONT_HERSHEY_COMPLEX,1,(255,0,0),1,cv2.LINE_AA)\n",
    "#                 if cv2.waitKey(20)& 0xFF==ord('q'):\n",
    "#                     break\n",
    "#                 # img=cv2.flip(img,1)\n",
    "#                 cv2.imshow('Pose',img)\n",
    "#             else:\n",
    "#                 break\n",
    "# cap.release()\n",
    "# cv2.destroyAllWindows()"
   ]
  },
  {
   "cell_type": "code",
   "execution_count": null,
   "metadata": {},
   "outputs": [],
   "source": [
    "action"
   ]
  }
 ],
 "metadata": {
  "kernelspec": {
   "display_name": "Python 3.10.8 ('pythonProject')",
   "language": "python",
   "name": "python3"
  },
  "language_info": {
   "codemirror_mode": {
    "name": "ipython",
    "version": 3
   },
   "file_extension": ".py",
   "mimetype": "text/x-python",
   "name": "python",
   "nbconvert_exporter": "python",
   "pygments_lexer": "ipython3",
   "version": "3.10.8"
  },
  "orig_nbformat": 4,
  "vscode": {
   "interpreter": {
    "hash": "77bd7aacb429543d1defe97202d84abe615362f6ac5646d480f574bc453493ce"
   }
  }
 },
 "nbformat": 4,
 "nbformat_minor": 2
}

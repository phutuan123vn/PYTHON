{
 "cells": [
  {
   "cell_type": "code",
   "execution_count": 50,
   "metadata": {},
   "outputs": [],
   "source": [
    "import numpy as np\n",
    "import cv2 \n",
    "import mediapipe as mp\n",
    "mp_draw=mp.solutions.drawing_utils\n",
    "mp_pose=mp.solutions.pose"
   ]
  },
  {
   "cell_type": "code",
   "execution_count": 51,
   "metadata": {},
   "outputs": [],
   "source": [
    "def detection(img,model):\n",
    "    img=cv2.cvtColor(img,cv2.COLOR_BGR2RGB)\n",
    "    img.flags.writeable=False\n",
    "    results=model.process(img)\n",
    "    img.flags.writeable=True\n",
    "    img=cv2.cvtColor(img,cv2.COLOR_RGB2BGR)\n",
    "    return img,results\n"
   ]
  },
  {
   "cell_type": "code",
   "execution_count": 84,
   "metadata": {},
   "outputs": [],
   "source": [
    "def draw_edit(landmarks,frame):\n",
    "    h,w,_=frame.shape\n",
    "    nose=np.array([[landmarks[mp_pose.PoseLandmark.NOSE].x*w,landmarks[mp_pose.PoseLandmark.NOSE].y*h]])\n",
    "    lft_shoulder=np.array([[landmarks[mp_pose.PoseLandmark.LEFT_SHOULDER].x*w,landmarks[mp_pose.PoseLandmark.LEFT_SHOULDER].y*h]])\n",
    "    rght_shoulder=np.array([[landmarks[mp_pose.PoseLandmark.RIGHT_SHOULDER].x*w,landmarks[mp_pose.PoseLandmark.RIGHT_SHOULDER].y*h]])\n",
    "    neck=((lft_shoulder+rght_shoulder)/2+nose)/2\n",
    "    chest_mid=(lft_shoulder+rght_shoulder)/2\n",
    "    x1,y1=np.squeeze(neck)\n",
    "    x2,y2=np.squeeze(chest_mid)\n",
    "    cv2.circle(frame, (int(x1), int(y1)), 6, (0,255,0), -1)\n",
    "    cv2.line(frame, (int(x1), int(y1)), (int(x2), int(y2)), (255,255,255), 4)\n",
    "    "
   ]
  },
  {
   "cell_type": "code",
   "execution_count": 85,
   "metadata": {},
   "outputs": [],
   "source": [
    "cap=cv2.VideoCapture('VIDEO_TEST/2.mp4')#path chon video capture\n",
    "with mp_pose.Pose(min_detection_confidence=0.5,min_tracking_confidence=0.5,model_complexity=1) as pose:\n",
    "    while cap.isOpened():\n",
    "        ret,frame=cap.read()\n",
    "        img,results=detection(frame,pose)\n",
    "        mp_draw.draw_landmarks(img,results.pose_landmarks,mp_pose.POSE_CONNECTIONS)\n",
    "        try:\n",
    "            landmark=results.pose_landmarks.landmark\n",
    "            draw_edit(landmark,img)\n",
    "        except:\n",
    "            pass\n",
    "        # mp_draw.draw_landmarks(img,results.pose_landmarks,mp_pose.POSE_CONNECTIONS)\n",
    "        if cv2.waitKey(20)& 0xFF==ord('q'):\n",
    "            break\n",
    "        cv2.imshow('Pose',img)\n",
    "cap.release()\n",
    "cv2.destroyAllWindows()"
   ]
  },
  {
   "cell_type": "code",
   "execution_count": 60,
   "metadata": {},
   "outputs": [
    {
     "data": {
      "text/plain": [
       "528.768185377121"
      ]
     },
     "execution_count": 60,
     "metadata": {},
     "output_type": "execute_result"
    }
   ],
   "source": []
  }
 ],
 "metadata": {
  "kernelspec": {
   "display_name": "Python 3.10.8 ('pythonProject')",
   "language": "python",
   "name": "python3"
  },
  "language_info": {
   "codemirror_mode": {
    "name": "ipython",
    "version": 3
   },
   "file_extension": ".py",
   "mimetype": "text/x-python",
   "name": "python",
   "nbconvert_exporter": "python",
   "pygments_lexer": "ipython3",
   "version": "3.10.8"
  },
  "orig_nbformat": 4,
  "vscode": {
   "interpreter": {
    "hash": "ab47d8f26d0de71b951a80b6ec953abb660ed114394f9d340a18606f921977ea"
   }
  }
 },
 "nbformat": 4,
 "nbformat_minor": 2
}

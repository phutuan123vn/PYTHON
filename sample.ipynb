{
 "cells": [
  {
   "cell_type": "code",
   "execution_count": 2,
   "metadata": {},
   "outputs": [],
   "source": [
    "import numpy as np\n",
    "import cv2 \n",
    "import mediapipe as mp\n",
    "import pandas as pd\n",
    "import glob\n",
    "mp_draw=mp.solutions.drawing_utils\n",
    "mp_pose=mp.solutions.pose"
   ]
  },
  {
   "cell_type": "code",
   "execution_count": 3,
   "metadata": {},
   "outputs": [],
   "source": [
    "path=glob.glob('chute07/*')\n"
   ]
  },
  {
   "cell_type": "code",
   "execution_count": 4,
   "metadata": {},
   "outputs": [
    {
     "data": {
      "text/plain": [
       "['chute07\\\\cam1.avi',\n",
       " 'chute07\\\\cam2.avi',\n",
       " 'chute07\\\\cam3.avi',\n",
       " 'chute07\\\\cam4.avi',\n",
       " 'chute07\\\\cam5.avi',\n",
       " 'chute07\\\\cam6.avi',\n",
       " 'chute07\\\\cam7.avi',\n",
       " 'chute07\\\\cam8.avi']"
      ]
     },
     "execution_count": 4,
     "metadata": {},
     "output_type": "execute_result"
    }
   ],
   "source": [
    "path"
   ]
  },
  {
   "cell_type": "code",
   "execution_count": 5,
   "metadata": {},
   "outputs": [],
   "source": [
    "def detection(img,model):\n",
    "    img=cv2.cvtColor(img,cv2.COLOR_BGR2RGB)\n",
    "    img.flags.writeable=False\n",
    "    results=model.process(img)\n",
    "    img.flags.writeable=True\n",
    "    img=cv2.cvtColor(img,cv2.COLOR_RGB2BGR)\n",
    "    return img,results\n"
   ]
  },
  {
   "cell_type": "code",
   "execution_count": 35,
   "metadata": {},
   "outputs": [],
   "source": [
    "def lay_mau(landmark,frame):\n",
    "    a=[]\n",
    "    for idx,lmk in enumerate(landmark):\n",
    "        if idx in [x for x in range(1,11)]:\n",
    "            continue\n",
    "        elif idx in [x for x in range(17,23)]:\n",
    "            continue\n",
    "        y=landmark[0].y\n",
    "        # cv2.putText(frame,'Cor:{}'.format(y),(50,50),cv2.FONT_HERSHEY_COMPLEX,1,(255,0,0),1,cv2.LINE_AA)\n",
    "        a.append(lmk.x)\n",
    "        a.append(lmk.y)\n",
    "        a.append(lmk.z)\n",
    "    return a"
   ]
  },
  {
   "cell_type": "code",
   "execution_count": 36,
   "metadata": {},
   "outputs": [],
   "source": [
    "# cap=cv2.VideoCapture('VIDEO_TEST/2.mp4')#path chon video \n",
    "lst_sample=[]\n",
    "frame_num=30\n",
    "with mp_pose.Pose(min_detection_confidence=0.5,min_tracking_confidence=0.5,model_complexity=1) as pose:\n",
    "    # for i in path:\n",
    "        # cap=cv2.VideoCapture('chute07/cam4.avi')\n",
    "        cap=cv2.VideoCapture(0)\n",
    "        while cap.isOpened():\n",
    "            ret,frame=cap.read()\n",
    "            img,results=detection(frame,pose)\n",
    "            mp_draw.draw_landmarks(img,results.pose_landmarks,mp_pose.POSE_CONNECTIONS)\n",
    "            try:\n",
    "                landmark=results.pose_landmarks.landmark\n",
    "                lst_sample.append(lay_mau(landmark,img))\n",
    "            except:\n",
    "                pass\n",
    "            # mp_draw.draw_landmarks(img,results.pose_landmarks,mp_pose.POSE_CONNECTIONS)\n",
    "            # lst_sample.append(samples)\n",
    "            # if cv2.waitKey(20)&0xFF==ord('w'):\n",
    "            #     lst_sample.append(lay_mau(landmark,img))\n",
    "\n",
    "            if cv2.waitKey(20)& 0xFF==ord('q'):\n",
    "                break\n",
    "            img=cv2.flip(img,1)\n",
    "            cv2.imshow('Pose',img)\n",
    "df =pd.DataFrame(lst_sample)\n",
    "df.to_csv('Sample.txt')\n",
    "cap.release()\n",
    "cv2.destroyAllWindows()"
   ]
  },
  {
   "cell_type": "code",
   "execution_count": 8,
   "metadata": {},
   "outputs": [
    {
     "data": {
      "text/plain": [
       "(51,)"
      ]
     },
     "execution_count": 8,
     "metadata": {},
     "output_type": "execute_result"
    }
   ],
   "source": [
    "a=[]\n",
    "for idx,lmk in enumerate(landmark):\n",
    "    if idx in [x for x in range(1,11)]:\n",
    "        continue\n",
    "    elif idx in [x for x in range(17,23)]:\n",
    "        continue\n",
    "    a.append(lmk.x)\n",
    "    a.append(lmk.y)\n",
    "    a.append(lmk.z)\n",
    "np.array(a).shape"
   ]
  }
 ],
 "metadata": {
  "kernelspec": {
   "display_name": "Python 3.10.8 ('pythonProject')",
   "language": "python",
   "name": "python3"
  },
  "language_info": {
   "codemirror_mode": {
    "name": "ipython",
    "version": 3
   },
   "file_extension": ".py",
   "mimetype": "text/x-python",
   "name": "python",
   "nbconvert_exporter": "python",
   "pygments_lexer": "ipython3",
   "version": "3.10.8"
  },
  "orig_nbformat": 4,
  "vscode": {
   "interpreter": {
    "hash": "77bd7aacb429543d1defe97202d84abe615362f6ac5646d480f574bc453493ce"
   }
  }
 },
 "nbformat": 4,
 "nbformat_minor": 2
}

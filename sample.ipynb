{
 "cells": [
  {
   "cell_type": "code",
   "execution_count": 14,
   "metadata": {},
   "outputs": [],
   "source": [
    "import numpy as np\n",
    "import cv2 \n",
    "import mediapipe as mp\n",
    "import pandas as pd\n",
    "import glob\n",
    "mp_draw=mp.solutions.drawing_utils\n",
    "mp_pose=mp.solutions.pose"
   ]
  },
  {
   "cell_type": "code",
   "execution_count": 22,
   "metadata": {},
   "outputs": [],
   "source": [
    "path=glob.glob('C:/Users/ADMIN/Documents/VSC/TEST1/PYTHON/VIDEO_TEST/dataset/chute07/*')\n"
   ]
  },
  {
   "cell_type": "code",
   "execution_count": 4,
   "metadata": {},
   "outputs": [],
   "source": [
    "def detection(img,model):\n",
    "    img=cv2.cvtColor(img,cv2.COLOR_BGR2RGB)\n",
    "    img.flags.writeable=False\n",
    "    results=model.process(img)\n",
    "    img.flags.writeable=True\n",
    "    img=cv2.cvtColor(img,cv2.COLOR_RGB2BGR)\n",
    "    return img,results\n"
   ]
  },
  {
   "cell_type": "code",
   "execution_count": 5,
   "metadata": {},
   "outputs": [],
   "source": [
    "def lay_mau(landmark):\n",
    "    a=[]\n",
    "    for idx,lmk in enumerate(landmark):\n",
    "        if idx in [x for x in range(1,11)]:\n",
    "            continue\n",
    "        elif idx in [x for x in range(17,23)]:\n",
    "            continue\n",
    "        a.append(lmk.x)\n",
    "        a.append(lmk.y)\n",
    "        a.append(lmk.z)\n",
    "    return a"
   ]
  },
  {
   "cell_type": "code",
   "execution_count": 23,
   "metadata": {},
   "outputs": [],
   "source": [
    "# cap=cv2.VideoCapture('VIDEO_TEST/2.mp4')#path chon video \n",
    "lst_sample=[]\n",
    "frame_num=30\n",
    "with mp_pose.Pose(min_detection_confidence=0.5,min_tracking_confidence=0.5,model_complexity=1) as pose:\n",
    "    for i in range(len(path)):\n",
    "        cap=cv2.VideoCapture(path[i])\n",
    "        while cap.isOpened():\n",
    "            ret,frame=cap.read()\n",
    "            img,results=detection(frame,pose)\n",
    "            mp_draw.draw_landmarks(img,results.pose_landmarks,mp_pose.POSE_CONNECTIONS)\n",
    "            try:\n",
    "                landmark=results.pose_landmarks.landmark\n",
    "                lst_sample.append(lay_mau(landmark))\n",
    "            except:\n",
    "                pass\n",
    "            # mp_draw.draw_landmarks(img,results.pose_landmarks,mp_pose.POSE_CONNECTIONS)\n",
    "            # lst_sample.append(samples)\n",
    "            if cv2.waitKey(20)& 0xFF==ord('q'):\n",
    "                break\n",
    "            cv2.imshow('Pose',img)\n",
    "df =pd.DataFrame(lst_sample)\n",
    "df.to_csv('Sample.txt')\n",
    "cap.release()\n",
    "cv2.destroyAllWindows()"
   ]
  },
  {
   "cell_type": "code",
   "execution_count": null,
   "metadata": {},
   "outputs": [
    {
     "data": {
      "text/plain": [
       "(51,)"
      ]
     },
     "execution_count": 48,
     "metadata": {},
     "output_type": "execute_result"
    }
   ],
   "source": [
    "a=[]\n",
    "for idx,lmk in enumerate(landmark):\n",
    "    if idx in [x for x in range(1,11)]:\n",
    "        continue\n",
    "    elif idx in [x for x in range(17,23)]:\n",
    "        continue\n",
    "    a.append(lmk.x)\n",
    "    a.append(lmk.y)\n",
    "    a.append(lmk.z)\n",
    "np.array(a).shape"
   ]
  },
  {
   "cell_type": "code",
   "execution_count": null,
   "metadata": {},
   "outputs": [
    {
     "name": "stdout",
     "output_type": "stream",
     "text": [
      "2\n",
      "3\n",
      "4\n",
      "5\n",
      "6\n",
      "7\n",
      "8\n",
      "9\n",
      "10\n",
      "11\n",
      "12\n",
      "13\n",
      "14\n",
      "15\n",
      "16\n",
      "17\n",
      "18\n",
      "19\n",
      "20\n",
      "21\n",
      "22\n",
      "23\n",
      "24\n",
      "25\n",
      "26\n",
      "27\n",
      "28\n",
      "29\n"
     ]
    }
   ],
   "source": [
    "a=[]\n",
    "b=np.array(lst_sample)\n",
    "for i in range(2,len(b)):\n",
    "    a.append(b[i-2:i,:])\n",
    "    print(i)\n",
    "\n"
   ]
  },
  {
   "cell_type": "code",
   "execution_count": null,
   "metadata": {},
   "outputs": [
    {
     "data": {
      "text/plain": [
       "30"
      ]
     },
     "execution_count": 76,
     "metadata": {},
     "output_type": "execute_result"
    }
   ],
   "source": [
    "len(b)"
   ]
  }
 ],
 "metadata": {
  "kernelspec": {
   "display_name": "Python 3.10.8 ('pythonProject')",
   "language": "python",
   "name": "python3"
  },
  "language_info": {
   "codemirror_mode": {
    "name": "ipython",
    "version": 3
   },
   "file_extension": ".py",
   "mimetype": "text/x-python",
   "name": "python",
   "nbconvert_exporter": "python",
   "pygments_lexer": "ipython3",
   "version": "3.10.8"
  },
  "orig_nbformat": 4,
  "vscode": {
   "interpreter": {
    "hash": "ab47d8f26d0de71b951a80b6ec953abb660ed114394f9d340a18606f921977ea"
   }
  }
 },
 "nbformat": 4,
 "nbformat_minor": 2
}

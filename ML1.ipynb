{
 "cells": [
  {
   "cell_type": "code",
   "execution_count": 2,
   "metadata": {},
   "outputs": [],
   "source": [
    "import numpy as np\n",
    "import matplotlib.pyplot as plt"
   ]
  },
  {
   "cell_type": "code",
   "execution_count": 9,
   "metadata": {},
   "outputs": [],
   "source": [
    "x=np.array([[1,0,1,0],[1,0,0,1]])\n",
    "y=np.array([[1,1,0,0]])"
   ]
  },
  {
   "cell_type": "code",
   "execution_count": 10,
   "metadata": {},
   "outputs": [
    {
     "data": {
      "text/plain": [
       "(2, 4)"
      ]
     },
     "execution_count": 10,
     "metadata": {},
     "output_type": "execute_result"
    }
   ],
   "source": [
    "x.shape"
   ]
  },
  {
   "cell_type": "code",
   "execution_count": 4,
   "metadata": {},
   "outputs": [],
   "source": [
    "def sigmoid(z):\n",
    "    return 1/(1+np.exp(-z))\n",
    "def derivative(z):\n",
    "    return z*(1-z)\n",
    "n_i=2\n",
    "n_h1=3\n",
    "n_o=1\n",
    "W1=np.random.randn(n_i,n_h1)\n",
    "b1=np.random.rand(n_h1,1)\n",
    "W2=np.random.randn(n_h1,n_o)\n",
    "b2=np.random.randn(n_o,1)"
   ]
  },
  {
   "cell_type": "code",
   "execution_count": 18,
   "metadata": {},
   "outputs": [],
   "source": [
    "lr=0.01\n",
    "for i in range(1000):\n",
    "    z1=W1.T@x + b1\n",
    "    a1=sigmoid(z1)\n",
    "    z2=W2.T@a1 + b2\n",
    "    y_hat=sigmoid(z2)\n",
    "    E2=y_hat-y\n",
    "    D2=E2*derivative(y_hat)\n",
    "    E1=(W2@D2)\n",
    "    D1=E1*derivative(a1)\n",
    "    W1-=lr*x@D1.T\n",
    "    W2-=lr*a1@D2.T\n",
    "    b1-=lr*np.sum(D1,axis=1,keepdims=True)\n",
    "    b2-=lr*np.sum(D2,axis=1,keepdims=True)\n",
    "\n",
    "\n"
   ]
  },
  {
   "cell_type": "code",
   "execution_count": 20,
   "metadata": {},
   "outputs": [
    {
     "data": {
      "text/plain": [
       "array([[0.46665621, 0.54595415, 0.4561791 , 0.53058483]])"
      ]
     },
     "execution_count": 20,
     "metadata": {},
     "output_type": "execute_result"
    }
   ],
   "source": []
  }
 ],
 "metadata": {
  "kernelspec": {
   "display_name": "Python 3.10.6 ('pythonProject')",
   "language": "python",
   "name": "python3"
  },
  "language_info": {
   "codemirror_mode": {
    "name": "ipython",
    "version": 3
   },
   "file_extension": ".py",
   "mimetype": "text/x-python",
   "name": "python",
   "nbconvert_exporter": "python",
   "pygments_lexer": "ipython3",
   "version": "3.10.8"
  },
  "orig_nbformat": 4,
  "vscode": {
   "interpreter": {
    "hash": "77bd7aacb429543d1defe97202d84abe615362f6ac5646d480f574bc453493ce"
   }
  }
 },
 "nbformat": 4,
 "nbformat_minor": 2
}
